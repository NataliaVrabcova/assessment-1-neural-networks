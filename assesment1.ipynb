{
  "nbformat": 4,
  "nbformat_minor": 0,
  "metadata": {
    "colab": {
      "provenance": [],
      "authorship_tag": "ABX9TyM5nSG6Fv6zsgGivaKABRLj"
    },
    "kernelspec": {
      "name": "python3",
      "display_name": "Python 3"
    },
    "language_info": {
      "name": "python"
    }
  },
  "cells": [
    {
      "cell_type": "code",
      "execution_count": null,
      "metadata": {
        "id": "qJT2SJFzek46",
        "colab": {
          "base_uri": "https://localhost:8080/"
        },
        "outputId": "e85efebd-aac8-4b0a-fd7b-e552f7d47baf"
      },
      "outputs": [
        {
          "output_type": "stream",
          "name": "stdout",
          "text": [
            "Cloning into 'assessment-1-neural-networks'...\n",
            "remote: Enumerating objects: 42, done.\u001b[K\n",
            "remote: Counting objects: 100% (42/42), done.\u001b[K\n",
            "remote: Compressing objects: 100% (41/41), done.\u001b[K\n",
            "remote: Total 42 (delta 21), reused 0 (delta 0), pack-reused 0 (from 0)\u001b[K\n",
            "Receiving objects: 100% (42/42), 2.19 MiB | 2.52 MiB/s, done.\n",
            "Resolving deltas: 100% (21/21), done.\n"
          ]
        }
      ],
      "source": [
        "!git clone https://github.com/NataliaVrabcova/assessment-1-neural-networks"
      ]
    },
    {
      "cell_type": "code",
      "source": [
        "import pandas as pd\n",
        "\n",
        "# Adjust the path to match your repository structure\n",
        "data = pd.read_csv('/content/assessment-1-neural-networks/healthcare_noshows_appointments.csv')\n",
        "\n",
        "# Verify the dataset is loaded\n",
        "print(data.head())"
      ],
      "metadata": {
        "colab": {
          "base_uri": "https://localhost:8080/"
        },
        "id": "cOhms_5agG9I",
        "outputId": "80b34e80-8482-4a9c-afff-f2ff00a3ad0c"
      },
      "execution_count": 47,
      "outputs": [
        {
          "output_type": "stream",
          "name": "stdout",
          "text": [
            "      PatientId  AppointmentID Gender ScheduledDay AppointmentDay  Age  \\\n",
            "0  2.987250e+13        5642903      F   2016-04-29     2016-04-29   62   \n",
            "1  5.589978e+14        5642503      M   2016-04-29     2016-04-29   56   \n",
            "2  4.262962e+12        5642549      F   2016-04-29     2016-04-29   62   \n",
            "3  8.679512e+11        5642828      F   2016-04-29     2016-04-29    8   \n",
            "4  8.841186e+12        5642494      F   2016-04-29     2016-04-29   56   \n",
            "\n",
            "       Neighbourhood  Scholarship  Hipertension  Diabetes  Alcoholism  \\\n",
            "0    JARDIM DA PENHA        False          True     False       False   \n",
            "1    JARDIM DA PENHA        False         False     False       False   \n",
            "2      MATA DA PRAIA        False         False     False       False   \n",
            "3  PONTAL DE CAMBURI        False         False     False       False   \n",
            "4    JARDIM DA PENHA        False          True      True       False   \n",
            "\n",
            "   Handcap  SMS_received  Showed_up  Date.diff  \n",
            "0    False         False       True          0  \n",
            "1    False         False       True          0  \n",
            "2    False         False       True          0  \n",
            "3    False         False       True          0  \n",
            "4    False         False       True          0  \n"
          ]
        }
      ]
    },
    {
      "cell_type": "code",
      "source": [
        "# Checking for missing values\n",
        "missing_values = data.isnull().sum()\n",
        "\n",
        "# Display columns with missing values\n",
        "print(missing_values[missing_values > 0])"
      ],
      "metadata": {
        "id": "WpUyPei1wqEC",
        "outputId": "1280662d-4fd6-4f50-be2a-fdeba280305e",
        "colab": {
          "base_uri": "https://localhost:8080/"
        }
      },
      "execution_count": 48,
      "outputs": [
        {
          "output_type": "stream",
          "name": "stdout",
          "text": [
            "Series([], dtype: int64)\n"
          ]
        }
      ]
    },
    {
      "cell_type": "code",
      "source": [
        "#Checking numder of points\n",
        "num_points = len(data)\n",
        "\n",
        "# Print the number of points\n",
        "print(f\"The dataset contains {num_points} points.\")"
      ],
      "metadata": {
        "id": "VmALGzzQwuEe"
      },
      "execution_count": null,
      "outputs": []
    },
    {
      "cell_type": "code",
      "source": [
        "# Inspect the distribution of the target variable\n",
        "class_distribution = data['Showed_up'].value_counts()\n",
        "\n",
        "# Print the results\n",
        "print(\"Class Distribution:\")\n",
        "print(class_distribution)"
      ],
      "metadata": {
        "colab": {
          "base_uri": "https://localhost:8080/"
        },
        "id": "tfIjQk3wUe51",
        "outputId": "6e843ff9-67ab-4a1a-85bb-af8607111ae5"
      },
      "execution_count": 49,
      "outputs": [
        {
          "output_type": "stream",
          "name": "stdout",
          "text": [
            "Class Distribution:\n",
            "Showed_up\n",
            "True     85307\n",
            "False    21680\n",
            "Name: count, dtype: int64\n"
          ]
        }
      ]
    },
    {
      "cell_type": "markdown",
      "source": [
        "The dataset is highly unbalanced, with significantly more \"True\" (showed up) labels than \"False\" (did not show up).\n",
        "This imbalance can lead to a bias in the model, where it predominantly predicts \"True\" since it is the majority class."
      ],
      "metadata": {
        "id": "AkBYiSGiYc76"
      }
    },
    {
      "cell_type": "markdown",
      "source": [
        "We randomly sample 21,680 data points from the \"True\" class to match the \"False\" class count."
      ],
      "metadata": {
        "id": "3LnkwqmiYnQy"
      }
    },
    {
      "cell_type": "code",
      "source": [
        "from sklearn.utils import resample\n",
        "\n",
        "# Separate majority and minority classes\n",
        "majority_class = data[data['Showed_up'] == True]\n",
        "minority_class = data[data['Showed_up'] == False]\n",
        "\n",
        "# Downsample the majority class to match the minority class\n",
        "downsampled_majority_class = resample(majority_class,\n",
        "                                      replace=False,    # sample without replacement\n",
        "                                      n_samples=21680,  # number of samples to match the minority class\n",
        "                                      random_state=42)  # reproducibility\n",
        "\n",
        "# Combine the downsampled majority class with the minority class\n",
        "balanced_data = pd.concat([downsampled_majority_class, minority_class])\n"
      ],
      "metadata": {
        "id": "THX62-RAYnzo"
      },
      "execution_count": 50,
      "outputs": []
    },
    {
      "cell_type": "markdown",
      "source": [
        "By downsampling, we create a balanced dataset with equal representation of both classes, allowing the model to learn more effectively and make more accurate predictions across all classes."
      ],
      "metadata": {
        "id": "rijf-lQibqMZ"
      }
    },
    {
      "cell_type": "code",
      "source": [
        "# Importing libraries\n",
        "from sklearn.metrics import confusion_matrix, accuracy_score, precision_score, recall_score, f1_score\n",
        "from sklearn.model_selection import train_test_split\n",
        "from sklearn.preprocessing import StandardScaler\n",
        "from tensorflow.keras.models import Sequential\n",
        "from tensorflow.keras.layers import Input, Dense, Dropout\n",
        "from tensorflow.keras.optimizers import Adam\n",
        "import matplotlib.pyplot as plt\n",
        "import seaborn as sns"
      ],
      "metadata": {
        "id": "zI3gtgDdggVZ"
      },
      "execution_count": 51,
      "outputs": []
    },
    {
      "cell_type": "markdown",
      "source": [
        "Preprocessing the Data"
      ],
      "metadata": {
        "id": "CXsF4oD6gz_u"
      }
    },
    {
      "cell_type": "code",
      "source": [
        "# Selecting features and target variable\n",
        "X = balanced_data.drop(['Showed_up', 'PatientId', 'AppointmentID'], axis=1) #dropping the columns that are not relevant for the model's training\n",
        "y = balanced_data['Showed_up']\n",
        "\n",
        "# Encoding categorical variables\n",
        "X = pd.get_dummies(X, drop_first=True) # creates binary columns for each unique category within a categorical variable\n",
        "\n",
        "# Splitting the data into training and testing sets\n",
        "X_train, X_test, y_train, y_test = train_test_split(X, y, test_size=0.2, random_state=42)\n",
        "\n",
        "# Feature scaling\n",
        "scaler = StandardScaler()\n",
        "X_train = scaler.fit_transform(X_train)\n",
        "X_test = scaler.transform(X_test)\n",
        "\n",
        "X_scaled = scaler.fit_transform(X)"
      ],
      "metadata": {
        "id": "fAjwQuJIgx0I"
      },
      "execution_count": 52,
      "outputs": []
    },
    {
      "cell_type": "markdown",
      "source": [
        "Feature Selection: Excludes columns not needed for model training, such as IDs and the target variable itself.\n",
        "Categorical Encoding: Converts categorical data into a numerical format suitable for neural network training.\n",
        "Data Splitting: Divides the data into training and testing sets to validate the model’s performance.\n",
        "Feature Scaling: Normalizes the data to ensure that all features contribute equally to the learning process."
      ],
      "metadata": {
        "id": "I_wLyJpkuMFw"
      }
    },
    {
      "cell_type": "markdown",
      "source": [
        "Defining the architecture of the neural network:"
      ],
      "metadata": {
        "id": "hc6LdNHkg1YR"
      }
    },
    {
      "cell_type": "code",
      "source": [
        "# Defining the neural network model\n",
        "model = Sequential([\n",
        "    Input(shape=(X_train.shape[1],)),\n",
        "    Dense(64, activation='relu'),\n",
        "    Dropout(0.5),\n",
        "    Dense(32, activation='relu'),\n",
        "    Dropout(0.5),\n",
        "    Dense(1, activation='sigmoid')\n",
        "])\n",
        "\n",
        "# Compile the model\n",
        "model.compile(loss='binary_crossentropy', optimizer=Adam(), metrics=['accuracy'])"
      ],
      "metadata": {
        "id": "BoWrhYMYg3N0"
      },
      "execution_count": null,
      "outputs": []
    },
    {
      "cell_type": "markdown",
      "source": [
        "Input Layer: Defines the input shape based on the number of features after\n",
        "preprocessing.\n",
        "\n",
        "Hidden Layers: Uses ReLU activation for hidden layers (64 and 32 neurons), This is common for capturing complex patterns.\n",
        "\n",
        "Dropout: Helps prevent overfitting by randomly setting some of the input units to zero at each update during training.\n",
        "\n",
        "Output Layer: A sigmoid activation function is appropriate for binary classification tasks (showed up or not)."
      ],
      "metadata": {
        "id": "P8AVNnC-uZyM"
      }
    },
    {
      "cell_type": "markdown",
      "source": [
        "**The Adam** optimizer was chosen due to its adaptability and efficiency in handling sparse gradients. The default learning rate of 0.001 was used, as it generally works well for a wide range of tasks and often provides a good starting point for optimization. This ensures stable and efficient convergence without the need for extensive fine-tuning."
      ],
      "metadata": {
        "id": "9VqV4uAq6cGf"
      }
    },
    {
      "cell_type": "markdown",
      "source": [
        "Train the model with your preprocessed data:"
      ],
      "metadata": {
        "id": "UfSZYeyIhMeY"
      }
    },
    {
      "cell_type": "code",
      "source": [
        "from tensorflow.keras.callbacks import EarlyStopping\n",
        "\n",
        "# Initialize the early stopping callback\n",
        "early_stopping = EarlyStopping(monitor='val_loss',  # monitor validation loss\n",
        "                              patience=5,          # number of epochs with no improvement to wait before stopping\n",
        "                              restore_best_weights=True) # restores the model to the best weights\n",
        "\n",
        "\n",
        "# Train the model\n",
        "history = model.fit(X_train, y_train, epochs=50, batch_size=32, validation_data=(X_test, y_test),callbacks=[early_stopping])"
      ],
      "metadata": {
        "colab": {
          "base_uri": "https://localhost:8080/"
        },
        "id": "38eDevsChOZD",
        "outputId": "2d47c447-3731-423b-fbef-b0b53b2226ed"
      },
      "execution_count": null,
      "outputs": [
        {
          "output_type": "stream",
          "name": "stdout",
          "text": [
            "Epoch 1/50\n",
            "\u001b[1m25/25\u001b[0m \u001b[32m━━━━━━━━━━━━━━━━━━━━\u001b[0m\u001b[37m\u001b[0m \u001b[1m2s\u001b[0m 14ms/step - accuracy: 0.5012 - loss: 0.8084 - val_accuracy: 0.5800 - val_loss: 0.6753\n",
            "Epoch 2/50\n",
            "\u001b[1m25/25\u001b[0m \u001b[32m━━━━━━━━━━━━━━━━━━━━\u001b[0m\u001b[37m\u001b[0m \u001b[1m0s\u001b[0m 4ms/step - accuracy: 0.6034 - loss: 0.6601 - val_accuracy: 0.6900 - val_loss: 0.6109\n",
            "Epoch 3/50\n",
            "\u001b[1m25/25\u001b[0m \u001b[32m━━━━━━━━━━━━━━━━━━━━\u001b[0m\u001b[37m\u001b[0m \u001b[1m0s\u001b[0m 5ms/step - accuracy: 0.6328 - loss: 0.6295 - val_accuracy: 0.7300 - val_loss: 0.5666\n",
            "Epoch 4/50\n",
            "\u001b[1m25/25\u001b[0m \u001b[32m━━━━━━━━━━━━━━━━━━━━\u001b[0m\u001b[37m\u001b[0m \u001b[1m0s\u001b[0m 4ms/step - accuracy: 0.6962 - loss: 0.5908 - val_accuracy: 0.7600 - val_loss: 0.5297\n",
            "Epoch 5/50\n",
            "\u001b[1m25/25\u001b[0m \u001b[32m━━━━━━━━━━━━━━━━━━━━\u001b[0m\u001b[37m\u001b[0m \u001b[1m0s\u001b[0m 5ms/step - accuracy: 0.7438 - loss: 0.5410 - val_accuracy: 0.7950 - val_loss: 0.4926\n",
            "Epoch 6/50\n",
            "\u001b[1m25/25\u001b[0m \u001b[32m━━━━━━━━━━━━━━━━━━━━\u001b[0m\u001b[37m\u001b[0m \u001b[1m0s\u001b[0m 4ms/step - accuracy: 0.7508 - loss: 0.5084 - val_accuracy: 0.8250 - val_loss: 0.4654\n",
            "Epoch 7/50\n",
            "\u001b[1m25/25\u001b[0m \u001b[32m━━━━━━━━━━━━━━━━━━━━\u001b[0m\u001b[37m\u001b[0m \u001b[1m0s\u001b[0m 5ms/step - accuracy: 0.7936 - loss: 0.4697 - val_accuracy: 0.8250 - val_loss: 0.4442\n",
            "Epoch 8/50\n",
            "\u001b[1m25/25\u001b[0m \u001b[32m━━━━━━━━━━━━━━━━━━━━\u001b[0m\u001b[37m\u001b[0m \u001b[1m0s\u001b[0m 7ms/step - accuracy: 0.7885 - loss: 0.4486 - val_accuracy: 0.8300 - val_loss: 0.4225\n",
            "Epoch 9/50\n",
            "\u001b[1m25/25\u001b[0m \u001b[32m━━━━━━━━━━━━━━━━━━━━\u001b[0m\u001b[37m\u001b[0m \u001b[1m0s\u001b[0m 6ms/step - accuracy: 0.7933 - loss: 0.4365 - val_accuracy: 0.8350 - val_loss: 0.4115\n",
            "Epoch 10/50\n",
            "\u001b[1m25/25\u001b[0m \u001b[32m━━━━━━━━━━━━━━━━━━━━\u001b[0m\u001b[37m\u001b[0m \u001b[1m0s\u001b[0m 6ms/step - accuracy: 0.8295 - loss: 0.4185 - val_accuracy: 0.8300 - val_loss: 0.4025\n",
            "Epoch 11/50\n",
            "\u001b[1m25/25\u001b[0m \u001b[32m━━━━━━━━━━━━━━━━━━━━\u001b[0m\u001b[37m\u001b[0m \u001b[1m0s\u001b[0m 6ms/step - accuracy: 0.8302 - loss: 0.4031 - val_accuracy: 0.8400 - val_loss: 0.3930\n",
            "Epoch 12/50\n",
            "\u001b[1m25/25\u001b[0m \u001b[32m━━━━━━━━━━━━━━━━━━━━\u001b[0m\u001b[37m\u001b[0m \u001b[1m0s\u001b[0m 6ms/step - accuracy: 0.8254 - loss: 0.3983 - val_accuracy: 0.8450 - val_loss: 0.3907\n",
            "Epoch 13/50\n",
            "\u001b[1m25/25\u001b[0m \u001b[32m━━━━━━━━━━━━━━━━━━━━\u001b[0m\u001b[37m\u001b[0m \u001b[1m0s\u001b[0m 9ms/step - accuracy: 0.8460 - loss: 0.3702 - val_accuracy: 0.8450 - val_loss: 0.3877\n",
            "Epoch 14/50\n",
            "\u001b[1m25/25\u001b[0m \u001b[32m━━━━━━━━━━━━━━━━━━━━\u001b[0m\u001b[37m\u001b[0m \u001b[1m0s\u001b[0m 7ms/step - accuracy: 0.8582 - loss: 0.3383 - val_accuracy: 0.8450 - val_loss: 0.3865\n",
            "Epoch 15/50\n",
            "\u001b[1m25/25\u001b[0m \u001b[32m━━━━━━━━━━━━━━━━━━━━\u001b[0m\u001b[37m\u001b[0m \u001b[1m0s\u001b[0m 6ms/step - accuracy: 0.8641 - loss: 0.3569 - val_accuracy: 0.8500 - val_loss: 0.3811\n",
            "Epoch 16/50\n",
            "\u001b[1m25/25\u001b[0m \u001b[32m━━━━━━━━━━━━━━━━━━━━\u001b[0m\u001b[37m\u001b[0m \u001b[1m0s\u001b[0m 8ms/step - accuracy: 0.8480 - loss: 0.3741 - val_accuracy: 0.8500 - val_loss: 0.3832\n",
            "Epoch 17/50\n",
            "\u001b[1m25/25\u001b[0m \u001b[32m━━━━━━━━━━━━━━━━━━━━\u001b[0m\u001b[37m\u001b[0m \u001b[1m0s\u001b[0m 5ms/step - accuracy: 0.8403 - loss: 0.3538 - val_accuracy: 0.8550 - val_loss: 0.3752\n",
            "Epoch 18/50\n",
            "\u001b[1m25/25\u001b[0m \u001b[32m━━━━━━━━━━━━━━━━━━━━\u001b[0m\u001b[37m\u001b[0m \u001b[1m0s\u001b[0m 3ms/step - accuracy: 0.8705 - loss: 0.3230 - val_accuracy: 0.8600 - val_loss: 0.3731\n",
            "Epoch 19/50\n",
            "\u001b[1m25/25\u001b[0m \u001b[32m━━━━━━━━━━━━━━━━━━━━\u001b[0m\u001b[37m\u001b[0m \u001b[1m0s\u001b[0m 4ms/step - accuracy: 0.8512 - loss: 0.3955 - val_accuracy: 0.8550 - val_loss: 0.3711\n",
            "Epoch 20/50\n",
            "\u001b[1m25/25\u001b[0m \u001b[32m━━━━━━━━━━━━━━━━━━━━\u001b[0m\u001b[37m\u001b[0m \u001b[1m0s\u001b[0m 5ms/step - accuracy: 0.8465 - loss: 0.3468 - val_accuracy: 0.8500 - val_loss: 0.3717\n",
            "Epoch 21/50\n",
            "\u001b[1m25/25\u001b[0m \u001b[32m━━━━━━━━━━━━━━━━━━━━\u001b[0m\u001b[37m\u001b[0m \u001b[1m0s\u001b[0m 6ms/step - accuracy: 0.8797 - loss: 0.3222 - val_accuracy: 0.8550 - val_loss: 0.3702\n",
            "Epoch 22/50\n",
            "\u001b[1m25/25\u001b[0m \u001b[32m━━━━━━━━━━━━━━━━━━━━\u001b[0m\u001b[37m\u001b[0m \u001b[1m0s\u001b[0m 4ms/step - accuracy: 0.8600 - loss: 0.3573 - val_accuracy: 0.8600 - val_loss: 0.3703\n",
            "Epoch 23/50\n",
            "\u001b[1m25/25\u001b[0m \u001b[32m━━━━━━━━━━━━━━━━━━━━\u001b[0m\u001b[37m\u001b[0m \u001b[1m0s\u001b[0m 4ms/step - accuracy: 0.8790 - loss: 0.2906 - val_accuracy: 0.8500 - val_loss: 0.3737\n",
            "Epoch 24/50\n",
            "\u001b[1m25/25\u001b[0m \u001b[32m━━━━━━━━━━━━━━━━━━━━\u001b[0m\u001b[37m\u001b[0m \u001b[1m0s\u001b[0m 4ms/step - accuracy: 0.8700 - loss: 0.3230 - val_accuracy: 0.8450 - val_loss: 0.3756\n",
            "Epoch 25/50\n",
            "\u001b[1m25/25\u001b[0m \u001b[32m━━━━━━━━━━━━━━━━━━━━\u001b[0m\u001b[37m\u001b[0m \u001b[1m0s\u001b[0m 4ms/step - accuracy: 0.8612 - loss: 0.3187 - val_accuracy: 0.8400 - val_loss: 0.3743\n",
            "Epoch 26/50\n",
            "\u001b[1m25/25\u001b[0m \u001b[32m━━━━━━━━━━━━━━━━━━━━\u001b[0m\u001b[37m\u001b[0m \u001b[1m0s\u001b[0m 5ms/step - accuracy: 0.8736 - loss: 0.3237 - val_accuracy: 0.8400 - val_loss: 0.3722\n"
          ]
        }
      ]
    },
    {
      "cell_type": "markdown",
      "source": [
        "Epochs: Early stopping was implemented to monitor validation loss and halt training when performance stalled.\n",
        "\n",
        "Batch Size: smaller batch sizes can aid in faster convergence, whereas larger sizes can provide more accurate updates. We selected 32 as a batch size, as it is a commonly used standard that balances computational efficiency, convergence speed, and model performance.\n",
        "Validation Data: Monitors the model’s performance on a holdout set to prevent overfitting."
      ],
      "metadata": {
        "id": "vZylsyZAuyaU"
      }
    },
    {
      "cell_type": "markdown",
      "source": [
        "Evaluate the model’s performance:"
      ],
      "metadata": {
        "id": "6Re5Ik1ThPE2"
      }
    },
    {
      "cell_type": "code",
      "source": [
        "# Evaluate the model\n",
        "y_pred = (model.predict(X_test) > 0.5).astype(int)\n",
        "accuracy = accuracy_score(y_test, y_pred)\n",
        "print(f\"Accuracy: {accuracy:.4f}\")"
      ],
      "metadata": {
        "colab": {
          "base_uri": "https://localhost:8080/"
        },
        "id": "_NBmsJRDhTtN",
        "outputId": "b97c04bc-0d97-44ec-e103-daf7b2c7ee76"
      },
      "execution_count": null,
      "outputs": [
        {
          "output_type": "stream",
          "name": "stdout",
          "text": [
            "\u001b[1m7/7\u001b[0m \u001b[32m━━━━━━━━━━━━━━━━━━━━\u001b[0m\u001b[37m\u001b[0m \u001b[1m0s\u001b[0m 9ms/step\n",
            "Accuracy: 0.8550\n"
          ]
        }
      ]
    },
    {
      "cell_type": "markdown",
      "source": [
        "Accuracy Calculation: Measures the proportion of correct predictions on the test set. A higher accuracy indicates a better-performing model."
      ],
      "metadata": {
        "id": "sNXfrEeFvkbv"
      }
    },
    {
      "cell_type": "markdown",
      "source": [
        "Evaluate the model on the test set"
      ],
      "metadata": {
        "id": "QNvkpyt9mH_5"
      }
    },
    {
      "cell_type": "code",
      "source": [
        "test_loss, test_accuracy = model.evaluate(X_test, y_test)"
      ],
      "metadata": {
        "id": "7yTVyktAmBvL",
        "outputId": "89056160-90db-42c0-9510-5a355fc8e3e4",
        "colab": {
          "base_uri": "https://localhost:8080/"
        }
      },
      "execution_count": null,
      "outputs": [
        {
          "output_type": "stream",
          "name": "stdout",
          "text": [
            "\u001b[1m271/271\u001b[0m \u001b[32m━━━━━━━━━━━━━━━━━━━━\u001b[0m\u001b[37m\u001b[0m \u001b[1m0s\u001b[0m 1ms/step - accuracy: 0.6600 - loss: 0.6031\n"
          ]
        }
      ]
    },
    {
      "cell_type": "markdown",
      "source": [
        "Test Loss:\n",
        "  This value indicates the average error (or loss) of the model when it made predictions on the test data. A lower loss generally means that the model made fewer mistakes.\n",
        "\n",
        "Test Accuracy:\n",
        "  This metric shows the proportion of correct predictions (true positives + true negatives) out of the total predictions on the test set. A value closer to 1 indicates better performance.\n",
        "\n"
      ],
      "metadata": {
        "id": "QfR3U96zmEG1"
      }
    },
    {
      "cell_type": "markdown",
      "source": [
        "**Backpropagation:**"
      ],
      "metadata": {
        "id": "t39AbPZYvwU6"
      }
    },
    {
      "cell_type": "markdown",
      "source": [
        "This segment provides a step-by-step view of how the neural network processes data and adjusts its parameters during training. It helps to understand the underlying mechanism of how neural networks learn from data."
      ],
      "metadata": {
        "id": "GXQWepLcvwn7"
      }
    },
    {
      "cell_type": "code",
      "source": [
        "import numpy as np\n",
        "\n",
        "# Given parameters\n",
        "np.random.seed(42)  # For reproducibility\n",
        "X = np.random.rand(100, 14)  # Example data (100 samples, 14 features)\n",
        "W1 = np.random.rand(14, 64)  # Weights for the first hidden layer (14 input features, 64 neurons)\n",
        "b1 = np.random.rand(1, 64)  # Bias for the first hidden layer (64 neurons)\n",
        "learning_rate = 0.01  # Learning rate for gradient descent\n",
        "\n",
        "# Forward Propagation for the first hidden layer\n",
        "Z1 = np.dot(X, W1) + b1  # Linear transformation (Z1 = X * W1 + b1)\n",
        "A1 = np.maximum(0, Z1)   # ReLU activation (A1 = max(0, Z1))\n",
        "\n",
        "# Assuming we have a loss gradient with respect to A1\n",
        "dA1 = np.random.rand(100, 64)  # Gradient of the loss with respect to A1\n",
        "\n",
        "# Backward Propagation for the first hidden layer\n",
        "dZ1 = dA1 * (Z1 > 0)  # Derivative of ReLU (dZ1 = dA1 * (Z1 > 0))\n",
        "dW1 = np.dot(X.T, dZ1)  # Gradient of the loss with respect to W1 (dW1 = X^T * dZ1)\n",
        "db1 = np.sum(dZ1, axis=0, keepdims=True)  # Gradient of the loss with respect to b1 (db1 = sum(dZ1, axis=0))\n",
        "\n",
        "# Update weights and biases using gradient descent\n",
        "W1 -= learning_rate * dW1  # Updating weights\n",
        "b1 -= learning_rate * db1  # Updating biases\n",
        "\n",
        "print(\"Updated Weights:\", W1)\n",
        "print(\"Updated Biases:\", b1)"
      ],
      "metadata": {
        "id": "sueN-aTsB0S-"
      },
      "execution_count": null,
      "outputs": []
    },
    {
      "cell_type": "markdown",
      "source": [
        "  Forward Propagation:\n",
        "  \n",
        "        The input X is multiplied by the weight matrix W and added to the bias b to get Z1.\n",
        "        The ReLU activation function then applies A1 = max(0, Z1).\n",
        "\n",
        "  Backward Propagation:\n",
        "\n",
        "        We compute the gradient of the loss with respect to A1 which is then used to calculate gradients for Z1.\n",
        "        These gradients are used to update the weights W1 and biases b1 using gradient descent.\n",
        "\n",
        "This approach provides a clear view of how the data propagates through the network and how the weights and biases are adjusted during training."
      ],
      "metadata": {
        "id": "0PlHxiPGFjro"
      }
    },
    {
      "cell_type": "markdown",
      "source": [
        "After the backpropagation step, it appears that the updated weights have undergone significant changes, reflecting the adjustments made to minimize the loss during training. These changes are a positive sign that the model is learning from the data and refining its predictions. The weights have likely been updated to better capture the relationships within the dataset, which should enhance the model's performance.\n",
        "\n",
        "Monitoring the loss and validation accuracy will provide a clearer picture of how well the model is performing following these updates. If the loss is decreasing steadily, it indicates that the model is making progress towards convergence."
      ],
      "metadata": {
        "id": "yZ5b9qHHFXB-"
      }
    },
    {
      "cell_type": "markdown",
      "source": [
        "Model Performance:\n",
        " **Metrics**: We evaluate the model using several key metrics relevant to binary classification tasks:"
      ],
      "metadata": {
        "id": "IwLaZAC91tN_"
      }
    },
    {
      "cell_type": "code",
      "source": [
        "\n",
        "# Make predictions\n",
        "predictions = model.predict(X_test)  # Predictions from the neural network\n",
        "\n",
        "# Convert predictions to binary values\n",
        "predictions = (predictions > 0.5).astype(int)  # Convert probabilities to 0 or 1\n",
        "\n",
        "# Actual values (target variable)\n",
        "true_values = y_test\n",
        "\n",
        "# Calculate confusion matrix\n",
        "cm = confusion_matrix(true_values, predictions)\n",
        "\n",
        "# Extract the values\n",
        "TP = cm[1, 1]  # True Positives\n",
        "TN = cm[0, 0]  # True Negatives\n",
        "FP = cm[0, 1]  # False Positives\n",
        "FN = cm[1, 0]  # False Negatives\n",
        "\n",
        "print(f'True Positives: {TP}')\n",
        "print(f'True Negatives: {TN}')\n",
        "print(f'False Positives: {FP}')\n",
        "print(f'False Negatives: {FN}')\n",
        "\n",
        "# Calculate other metrics\n",
        "accuracy = accuracy_score(true_values, predictions)\n",
        "precision = precision_score(true_values, predictions)\n",
        "recall = recall_score(true_values, predictions)\n",
        "f1 = f1_score(true_values, predictions)\n",
        "\n",
        "print(f'Accuracy: {accuracy}')\n",
        "print(f'Precision: {precision}')\n",
        "print(f'Recall: {recall}')\n",
        "print(f'F1 Score: {f1}')"
      ],
      "metadata": {
        "colab": {
          "base_uri": "https://localhost:8080/"
        },
        "id": "WfrKw53-zI5h",
        "outputId": "d1fea3f0-ad2c-48b4-adf9-059c4c03e5f1"
      },
      "execution_count": null,
      "outputs": [
        {
          "output_type": "stream",
          "name": "stdout",
          "text": [
            "\u001b[1m7/7\u001b[0m \u001b[32m━━━━━━━━━━━━━━━━━━━━\u001b[0m\u001b[37m\u001b[0m \u001b[1m0s\u001b[0m 2ms/step \n",
            "True Positives: 85\n",
            "True Negatives: 86\n",
            "False Positives: 7\n",
            "False Negatives: 22\n",
            "Accuracy: 0.855\n",
            "Precision: 0.9239130434782609\n",
            "Recall: 0.794392523364486\n",
            "F1 Score: 0.8542713567839196\n"
          ]
        }
      ]
    },
    {
      "cell_type": "code",
      "source": [
        "# Plotting loss curves\n",
        "plt.figure(figsize=(12, 4))\n",
        "plt.subplot(1, 2, 1)\n",
        "plt.plot(history.history['loss'], label='Train Loss')\n",
        "plt.plot(history.history['val_loss'], label='Validation Loss')\n",
        "plt.xlabel('Epochs')\n",
        "plt.ylabel('Loss')\n",
        "plt.legend()\n",
        "plt.title('Loss Curves')\n",
        "\n",
        "# Plotting accuracy curves\n",
        "plt.subplot(1, 2, 2)\n",
        "plt.plot(history.history['accuracy'], label='Train Accuracy')\n",
        "plt.plot(history.history['val_accuracy'], label='Validation Accuracy')\n",
        "plt.xlabel('Epochs')\n",
        "plt.ylabel('Accuracy')\n",
        "plt.legend()\n",
        "plt.title('Accuracy Curves')\n",
        "\n",
        "plt.tight_layout()\n",
        "plt.show()\n",
        "\n",
        "# Plotting confusion matrix\n",
        "plt.figure(figsize=(6, 6))\n",
        "sns.heatmap(cm, annot=True, fmt='d', cmap='Blues', xticklabels=['Predicted No', 'Predicted Yes'], yticklabels=['Actual No', 'Actual Yes'])\n",
        "plt.xlabel('Predicted')\n",
        "plt.ylabel('Actual')\n",
        "plt.title('Confusion Matrix')\n",
        "plt.show()"
      ],
      "metadata": {
        "colab": {
          "base_uri": "https://localhost:8080/",
          "height": 954
        },
        "id": "gQv_i4ol2Ts9",
        "outputId": "9aabc1e1-37a8-4b34-ca29-d41bc5dbaf31"
      },
      "execution_count": null,
      "outputs": [
        {
          "output_type": "display_data",
          "data": {
            "text/plain": [
              "<Figure size 1200x400 with 2 Axes>"
            ],
            "image/png": "[encoded data removed]"
          },
          "metadata": {}
        },
        {
          "output_type": "display_data",
          "data": {
            "text/plain": [
              "<Figure size 600x600 with 2 Axes>"
            ],
            "image/png": "[encoded data removed]"
          },
          "metadata": {}
        }
      ]
    },
    {
      "cell_type": "markdown",
      "source": [
        "Loss Curves: The loss curves plot the training and validation loss across epochs, allowing you to visualize overfitting or underfitting. The left plot shows the loss over epochs, while the right plot shows the accuracy over epochs.\n",
        "\n",
        "\n",
        "Confusion Matrix: The confusion matrix is plotted as a heatmap to visually inspect the performance of the classification model. It shows True Positives, True Negatives, False Positives, and False Negatives.\n",
        "\n",
        "Confusion Matrix: The matrix displays the counts of true positives, true negatives, false positives, and false negatives. The numbers are represented in blue, with darker blue shades indicating higher values."
      ],
      "metadata": {
        "id": "RtnDwY3L2VlF"
      }
    },
    {
      "cell_type": "markdown",
      "source": [
        "**Comparing my model with a \"dummy classifier\"**\n",
        "\n",
        " A dummy classifier is a simple model that makes predictions based solely on the majority class."
      ],
      "metadata": {
        "id": "EQoBNdxql7Kt"
      }
    },
    {
      "cell_type": "code",
      "source": [
        "from sklearn.dummy import DummyClassifier\n",
        "\n",
        "# Create a dummy classifier with the most frequent class strategy\n",
        "dummy_clf = DummyClassifier(strategy='most_frequent')\n",
        "\n",
        "# Fit the dummy classifier on the training data (no real learning)\n",
        "dummy_clf.fit(X_train, y_train)\n"
      ],
      "metadata": {
        "colab": {
          "base_uri": "https://localhost:8080/",
          "height": 80
        },
        "id": "doR2cEgzqdKK",
        "outputId": "93d45126-96a6-4966-fa5e-800450668914"
      },
      "execution_count": null,
      "outputs": [
        {
          "output_type": "execute_result",
          "data": {
            "text/plain": [
              "DummyClassifier(strategy='most_frequent')"
            ],
            "text/html": [
              "<style>#sk-container-id-1 {\n",
              "  /* Definition of color scheme common for light and dark mode */\n",
              "  --sklearn-color-text: black;\n",
              "  --sklearn-color-line: gray;\n",
              "  /* Definition of color scheme for unfitted estimators */\n",
              "  --sklearn-color-unfitted-level-0: #fff5e6;\n",
              "  --sklearn-color-unfitted-level-1: #f6e4d2;\n",
              "  --sklearn-color-unfitted-level-2: #ffe0b3;\n",
              "  --sklearn-color-unfitted-level-3: chocolate;\n",
              "  /* Definition of color scheme for fitted estimators */\n",
              "  --sklearn-color-fitted-level-0: #f0f8ff;\n",
              "  --sklearn-color-fitted-level-1: #d4ebff;\n",
              "  --sklearn-color-fitted-level-2: #b3dbfd;\n",
              "  --sklearn-color-fitted-level-3: cornflowerblue;\n",
              "\n",
              "  /* Specific color for light theme */\n",
              "  --sklearn-color-text-on-default-background: var(--sg-text-color, var(--theme-code-foreground, var(--jp-content-font-color1, black)));\n",
              "  --sklearn-color-background: var(--sg-background-color, var(--theme-background, var(--jp-layout-color0, white)));\n",
              "  --sklearn-color-border-box: var(--sg-text-color, var(--theme-code-foreground, var(--jp-content-font-color1, black)));\n",
              "  --sklearn-color-icon: #696969;\n",
              "\n",
              "  @media (prefers-color-scheme: dark) {\n",
              "    /* Redefinition of color scheme for dark theme */\n",
              "    --sklearn-color-text-on-default-background: var(--sg-text-color, var(--theme-code-foreground, var(--jp-content-font-color1, white)));\n",
              "    --sklearn-color-background: var(--sg-background-color, var(--theme-background, var(--jp-layout-color0, #111)));\n",
              "    --sklearn-color-border-box: var(--sg-text-color, var(--theme-code-foreground, var(--jp-content-font-color1, white)));\n",
              "    --sklearn-color-icon: #878787;\n",
              "  }\n",
              "}\n",
              "\n",
              "#sk-container-id-1 {\n",
              "  color: var(--sklearn-color-text);\n",
              "}\n",
              "\n",
              "#sk-container-id-1 pre {\n",
              "  padding: 0;\n",
              "}\n",
              "\n",
              "#sk-container-id-1 input.sk-hidden--visually {\n",
              "  border: 0;\n",
              "  clip: rect(1px 1px 1px 1px);\n",
              "  clip: rect(1px, 1px, 1px, 1px);\n",
              "  height: 1px;\n",
              "  margin: -1px;\n",
              "  overflow: hidden;\n",
              "  padding: 0;\n",
              "  position: absolute;\n",
              "  width: 1px;\n",
              "}\n",
              "\n",
              "#sk-container-id-1 div.sk-dashed-wrapped {\n",
              "  border: 1px dashed var(--sklearn-color-line);\n",
              "  margin: 0 0.4em 0.5em 0.4em;\n",
              "  box-sizing: border-box;\n",
              "  padding-bottom: 0.4em;\n",
              "  background-color: var(--sklearn-color-background);\n",
              "}\n",
              "\n",
              "#sk-container-id-1 div.sk-container {\n",
              "  /* jupyter's `normalize.less` sets `[hidden] { display: none; }`\n",
              "     but bootstrap.min.css set `[hidden] { display: none !important; }`\n",
              "     so we also need the `!important` here to be able to override the\n",
              "     default hidden behavior on the sphinx rendered scikit-learn.org.\n",
              "     See: https://github.com/scikit-learn/scikit-learn/issues/21755 */\n",
              "  display: inline-block !important;\n",
              "  position: relative;\n",
              "}\n",
              "\n",
              "#sk-container-id-1 div.sk-text-repr-fallback {\n",
              "  display: none;\n",
              "}\n",
              "\n",
              "div.sk-parallel-item,\n",
              "div.sk-serial,\n",
              "div.sk-item {\n",
              "  /* draw centered vertical line to link estimators */\n",
              "  background-image: linear-gradient(var(--sklearn-color-text-on-default-background), var(--sklearn-color-text-on-default-background));\n",
              "  background-size: 2px 100%;\n",
              "  background-repeat: no-repeat;\n",
              "  background-position: center center;\n",
              "}\n",
              "\n",
              "/* Parallel-specific style estimator block */\n",
              "\n",
              "#sk-container-id-1 div.sk-parallel-item::after {\n",
              "  content: \"\";\n",
              "  width: 100%;\n",
              "  border-bottom: 2px solid var(--sklearn-color-text-on-default-background);\n",
              "  flex-grow: 1;\n",
              "}\n",
              "\n",
              "#sk-container-id-1 div.sk-parallel {\n",
              "  display: flex;\n",
              "  align-items: stretch;\n",
              "  justify-content: center;\n",
              "  background-color: var(--sklearn-color-background);\n",
              "  position: relative;\n",
              "}\n",
              "\n",
              "#sk-container-id-1 div.sk-parallel-item {\n",
              "  display: flex;\n",
              "  flex-direction: column;\n",
              "}\n",
              "\n",
              "#sk-container-id-1 div.sk-parallel-item:first-child::after {\n",
              "  align-self: flex-end;\n",
              "  width: 50%;\n",
              "}\n",
              "\n",
              "#sk-container-id-1 div.sk-parallel-item:last-child::after {\n",
              "  align-self: flex-start;\n",
              "  width: 50%;\n",
              "}\n",
              "\n",
              "#sk-container-id-1 div.sk-parallel-item:only-child::after {\n",
              "  width: 0;\n",
              "}\n",
              "\n",
              "/* Serial-specific style estimator block */\n",
              "\n",
              "#sk-container-id-1 div.sk-serial {\n",
              "  display: flex;\n",
              "  flex-direction: column;\n",
              "  align-items: center;\n",
              "  background-color: var(--sklearn-color-background);\n",
              "  padding-right: 1em;\n",
              "  padding-left: 1em;\n",
              "}\n",
              "\n",
              "\n",
              "/* Toggleable style: style used for estimator/Pipeline/ColumnTransformer box that is\n",
              "clickable and can be expanded/collapsed.\n",
              "- Pipeline and ColumnTransformer use this feature and define the default style\n",
              "- Estimators will overwrite some part of the style using the `sk-estimator` class\n",
              "*/\n",
              "\n",
              "/* Pipeline and ColumnTransformer style (default) */\n",
              "\n",
              "#sk-container-id-1 div.sk-toggleable {\n",
              "  /* Default theme specific background. It is overwritten whether we have a\n",
              "  specific estimator or a Pipeline/ColumnTransformer */\n",
              "  background-color: var(--sklearn-color-background);\n",
              "}\n",
              "\n",
              "/* Toggleable label */\n",
              "#sk-container-id-1 label.sk-toggleable__label {\n",
              "  cursor: pointer;\n",
              "  display: block;\n",
              "  width: 100%;\n",
              "  margin-bottom: 0;\n",
              "  padding: 0.5em;\n",
              "  box-sizing: border-box;\n",
              "  text-align: center;\n",
              "}\n",
              "\n",
              "#sk-container-id-1 label.sk-toggleable__label-arrow:before {\n",
              "  /* Arrow on the left of the label */\n",
              "  content: \"▸\";\n",
              "  float: left;\n",
              "  margin-right: 0.25em;\n",
              "  color: var(--sklearn-color-icon);\n",
              "}\n",
              "\n",
              "#sk-container-id-1 label.sk-toggleable__label-arrow:hover:before {\n",
              "  color: var(--sklearn-color-text);\n",
              "}\n",
              "\n",
              "/* Toggleable content - dropdown */\n",
              "\n",
              "#sk-container-id-1 div.sk-toggleable__content {\n",
              "  max-height: 0;\n",
              "  max-width: 0;\n",
              "  overflow: hidden;\n",
              "  text-align: left;\n",
              "  /* unfitted */\n",
              "  background-color: var(--sklearn-color-unfitted-level-0);\n",
              "}\n",
              "\n",
              "#sk-container-id-1 div.sk-toggleable__content.fitted {\n",
              "  /* fitted */\n",
              "  background-color: var(--sklearn-color-fitted-level-0);\n",
              "}\n",
              "\n",
              "#sk-container-id-1 div.sk-toggleable__content pre {\n",
              "  margin: 0.2em;\n",
              "  border-radius: 0.25em;\n",
              "  color: var(--sklearn-color-text);\n",
              "  /* unfitted */\n",
              "  background-color: var(--sklearn-color-unfitted-level-0);\n",
              "}\n",
              "\n",
              "#sk-container-id-1 div.sk-toggleable__content.fitted pre {\n",
              "  /* unfitted */\n",
              "  background-color: var(--sklearn-color-fitted-level-0);\n",
              "}\n",
              "\n",
              "#sk-container-id-1 input.sk-toggleable__control:checked~div.sk-toggleable__content {\n",
              "  /* Expand drop-down */\n",
              "  max-height: 200px;\n",
              "  max-width: 100%;\n",
              "  overflow: auto;\n",
              "}\n",
              "\n",
              "#sk-container-id-1 input.sk-toggleable__control:checked~label.sk-toggleable__label-arrow:before {\n",
              "  content: \"▾\";\n",
              "}\n",
              "\n",
              "/* Pipeline/ColumnTransformer-specific style */\n",
              "\n",
              "#sk-container-id-1 div.sk-label input.sk-toggleable__control:checked~label.sk-toggleable__label {\n",
              "  color: var(--sklearn-color-text);\n",
              "  background-color: var(--sklearn-color-unfitted-level-2);\n",
              "}\n",
              "\n",
              "#sk-container-id-1 div.sk-label.fitted input.sk-toggleable__control:checked~label.sk-toggleable__label {\n",
              "  background-color: var(--sklearn-color-fitted-level-2);\n",
              "}\n",
              "\n",
              "/* Estimator-specific style */\n",
              "\n",
              "/* Colorize estimator box */\n",
              "#sk-container-id-1 div.sk-estimator input.sk-toggleable__control:checked~label.sk-toggleable__label {\n",
              "  /* unfitted */\n",
              "  background-color: var(--sklearn-color-unfitted-level-2);\n",
              "}\n",
              "\n",
              "#sk-container-id-1 div.sk-estimator.fitted input.sk-toggleable__control:checked~label.sk-toggleable__label {\n",
              "  /* fitted */\n",
              "  background-color: var(--sklearn-color-fitted-level-2);\n",
              "}\n",
              "\n",
              "#sk-container-id-1 div.sk-label label.sk-toggleable__label,\n",
              "#sk-container-id-1 div.sk-label label {\n",
              "  /* The background is the default theme color */\n",
              "  color: var(--sklearn-color-text-on-default-background);\n",
              "}\n",
              "\n",
              "/* On hover, darken the color of the background */\n",
              "#sk-container-id-1 div.sk-label:hover label.sk-toggleable__label {\n",
              "  color: var(--sklearn-color-text);\n",
              "  background-color: var(--sklearn-color-unfitted-level-2);\n",
              "}\n",
              "\n",
              "/* Label box, darken color on hover, fitted */\n",
              "#sk-container-id-1 div.sk-label.fitted:hover label.sk-toggleable__label.fitted {\n",
              "  color: var(--sklearn-color-text);\n",
              "  background-color: var(--sklearn-color-fitted-level-2);\n",
              "}\n",
              "\n",
              "/* Estimator label */\n",
              "\n",
              "#sk-container-id-1 div.sk-label label {\n",
              "  font-family: monospace;\n",
              "  font-weight: bold;\n",
              "  display: inline-block;\n",
              "  line-height: 1.2em;\n",
              "}\n",
              "\n",
              "#sk-container-id-1 div.sk-label-container {\n",
              "  text-align: center;\n",
              "}\n",
              "\n",
              "/* Estimator-specific */\n",
              "#sk-container-id-1 div.sk-estimator {\n",
              "  font-family: monospace;\n",
              "  border: 1px dotted var(--sklearn-color-border-box);\n",
              "  border-radius: 0.25em;\n",
              "  box-sizing: border-box;\n",
              "  margin-bottom: 0.5em;\n",
              "  /* unfitted */\n",
              "  background-color: var(--sklearn-color-unfitted-level-0);\n",
              "}\n",
              "\n",
              "#sk-container-id-1 div.sk-estimator.fitted {\n",
              "  /* fitted */\n",
              "  background-color: var(--sklearn-color-fitted-level-0);\n",
              "}\n",
              "\n",
              "/* on hover */\n",
              "#sk-container-id-1 div.sk-estimator:hover {\n",
              "  /* unfitted */\n",
              "  background-color: var(--sklearn-color-unfitted-level-2);\n",
              "}\n",
              "\n",
              "#sk-container-id-1 div.sk-estimator.fitted:hover {\n",
              "  /* fitted */\n",
              "  background-color: var(--sklearn-color-fitted-level-2);\n",
              "}\n",
              "\n",
              "/* Specification for estimator info (e.g. \"i\" and \"?\") */\n",
              "\n",
              "/* Common style for \"i\" and \"?\" */\n",
              "\n",
              ".sk-estimator-doc-link,\n",
              "a:link.sk-estimator-doc-link,\n",
              "a:visited.sk-estimator-doc-link {\n",
              "  float: right;\n",
              "  font-size: smaller;\n",
              "  line-height: 1em;\n",
              "  font-family: monospace;\n",
              "  background-color: var(--sklearn-color-background);\n",
              "  border-radius: 1em;\n",
              "  height: 1em;\n",
              "  width: 1em;\n",
              "  text-decoration: none !important;\n",
              "  margin-left: 1ex;\n",
              "  /* unfitted */\n",
              "  border: var(--sklearn-color-unfitted-level-1) 1pt solid;\n",
              "  color: var(--sklearn-color-unfitted-level-1);\n",
              "}\n",
              "\n",
              ".sk-estimator-doc-link.fitted,\n",
              "a:link.sk-estimator-doc-link.fitted,\n",
              "a:visited.sk-estimator-doc-link.fitted {\n",
              "  /* fitted */\n",
              "  border: var(--sklearn-color-fitted-level-1) 1pt solid;\n",
              "  color: var(--sklearn-color-fitted-level-1);\n",
              "}\n",
              "\n",
              "/* On hover */\n",
              "div.sk-estimator:hover .sk-estimator-doc-link:hover,\n",
              ".sk-estimator-doc-link:hover,\n",
              "div.sk-label-container:hover .sk-estimator-doc-link:hover,\n",
              ".sk-estimator-doc-link:hover {\n",
              "  /* unfitted */\n",
              "  background-color: var(--sklearn-color-unfitted-level-3);\n",
              "  color: var(--sklearn-color-background);\n",
              "  text-decoration: none;\n",
              "}\n",
              "\n",
              "div.sk-estimator.fitted:hover .sk-estimator-doc-link.fitted:hover,\n",
              ".sk-estimator-doc-link.fitted:hover,\n",
              "div.sk-label-container:hover .sk-estimator-doc-link.fitted:hover,\n",
              ".sk-estimator-doc-link.fitted:hover {\n",
              "  /* fitted */\n",
              "  background-color: var(--sklearn-color-fitted-level-3);\n",
              "  color: var(--sklearn-color-background);\n",
              "  text-decoration: none;\n",
              "}\n",
              "\n",
              "/* Span, style for the box shown on hovering the info icon */\n",
              ".sk-estimator-doc-link span {\n",
              "  display: none;\n",
              "  z-index: 9999;\n",
              "  position: relative;\n",
              "  font-weight: normal;\n",
              "  right: .2ex;\n",
              "  padding: .5ex;\n",
              "  margin: .5ex;\n",
              "  width: min-content;\n",
              "  min-width: 20ex;\n",
              "  max-width: 50ex;\n",
              "  color: var(--sklearn-color-text);\n",
              "  box-shadow: 2pt 2pt 4pt #999;\n",
              "  /* unfitted */\n",
              "  background: var(--sklearn-color-unfitted-level-0);\n",
              "  border: .5pt solid var(--sklearn-color-unfitted-level-3);\n",
              "}\n",
              "\n",
              ".sk-estimator-doc-link.fitted span {\n",
              "  /* fitted */\n",
              "  background: var(--sklearn-color-fitted-level-0);\n",
              "  border: var(--sklearn-color-fitted-level-3);\n",
              "}\n",
              "\n",
              ".sk-estimator-doc-link:hover span {\n",
              "  display: block;\n",
              "}\n",
              "\n",
              "/* \"?\"-specific style due to the `<a>` HTML tag */\n",
              "\n",
              "#sk-container-id-1 a.estimator_doc_link {\n",
              "  float: right;\n",
              "  font-size: 1rem;\n",
              "  line-height: 1em;\n",
              "  font-family: monospace;\n",
              "  background-color: var(--sklearn-color-background);\n",
              "  border-radius: 1rem;\n",
              "  height: 1rem;\n",
              "  width: 1rem;\n",
              "  text-decoration: none;\n",
              "  /* unfitted */\n",
              "  color: var(--sklearn-color-unfitted-level-1);\n",
              "  border: var(--sklearn-color-unfitted-level-1) 1pt solid;\n",
              "}\n",
              "\n",
              "#sk-container-id-1 a.estimator_doc_link.fitted {\n",
              "  /* fitted */\n",
              "  border: var(--sklearn-color-fitted-level-1) 1pt solid;\n",
              "  color: var(--sklearn-color-fitted-level-1);\n",
              "}\n",
              "\n",
              "/* On hover */\n",
              "#sk-container-id-1 a.estimator_doc_link:hover {\n",
              "  /* unfitted */\n",
              "  background-color: var(--sklearn-color-unfitted-level-3);\n",
              "  color: var(--sklearn-color-background);\n",
              "  text-decoration: none;\n",
              "}\n",
              "\n",
              "#sk-container-id-1 a.estimator_doc_link.fitted:hover {\n",
              "  /* fitted */\n",
              "  background-color: var(--sklearn-color-fitted-level-3);\n",
              "}\n",
              "</style><div id=\"sk-container-id-1\" class=\"sk-top-container\"><div class=\"sk-text-repr-fallback\"><pre>DummyClassifier(strategy=&#x27;most_frequent&#x27;)</pre><b>In a Jupyter environment, please rerun this cell to show the HTML representation or trust the notebook. <br />On GitHub, the HTML representation is unable to render, please try loading this page with nbviewer.org.</b></div><div class=\"sk-container\" hidden><div class=\"sk-item\"><div class=\"sk-estimator fitted sk-toggleable\"><input class=\"sk-toggleable__control sk-hidden--visually\" id=\"sk-estimator-id-1\" type=\"checkbox\" checked><label for=\"sk-estimator-id-1\" class=\"sk-toggleable__label fitted sk-toggleable__label-arrow fitted\">&nbsp;&nbsp;DummyClassifier<a class=\"sk-estimator-doc-link fitted\" rel=\"noreferrer\" target=\"_blank\" href=\"https://scikit-learn.org/1.5/modules/generated/sklearn.dummy.DummyClassifier.html\">?<span>Documentation for DummyClassifier</span></a><span class=\"sk-estimator-doc-link fitted\">i<span>Fitted</span></span></label><div class=\"sk-toggleable__content fitted\"><pre>DummyClassifier(strategy=&#x27;most_frequent&#x27;)</pre></div> </div></div></div></div>"
            ]
          },
          "metadata": {},
          "execution_count": 31
        }
      ]
    },
    {
      "cell_type": "code",
      "source": [
        "y_dummy_pred = dummy_clf.predict(X_test)"
      ],
      "metadata": {
        "id": "KEjX4DgBxdvn"
      },
      "execution_count": null,
      "outputs": []
    },
    {
      "cell_type": "markdown",
      "source": [
        "A dummy classifier predicts the most common class (majority class) for all instances. In a binary classification task like predicting whether a patient will show up or not, the dummy classifier would predict \"Showed Up\" for all cases if that class is more frequent."
      ],
      "metadata": {
        "id": "wUib5Ntix5Ip"
      }
    },
    {
      "cell_type": "code",
      "source": [
        "# Accuracy\n",
        "dummy_accuracy = accuracy_score(y_test, y_dummy_pred)\n",
        "\n",
        "# Precision\n",
        "dummy_precision = precision_score(y_test, y_dummy_pred)\n",
        "\n",
        "# Recall\n",
        "dummy_recall = recall_score(y_test, y_dummy_pred)\n",
        "\n",
        "# F1 Score\n",
        "dummy_f1 = f1_score(y_test, y_dummy_pred)\n",
        "\n",
        "print(f'Accuracy: {dummy_accuracy}')\n",
        "print(f'Precision: {dummy_precision}')\n",
        "print(f'Recall: {dummy_recall}')\n",
        "print(f'F1 Score: {dummy_f1}')"
      ],
      "metadata": {
        "colab": {
          "base_uri": "https://localhost:8080/"
        },
        "id": "liolxtmvxQ8O",
        "outputId": "7a06b864-c020-4e48-fae4-8e7d51e32a96"
      },
      "execution_count": null,
      "outputs": [
        {
          "output_type": "stream",
          "name": "stdout",
          "text": [
            "Accuracy: 0.465\n",
            "Precision: 0.0\n",
            "Recall: 0.0\n",
            "F1 Score: 0.0\n"
          ]
        },
        {
          "output_type": "stream",
          "name": "stderr",
          "text": [
            "/usr/local/lib/python3.10/dist-packages/sklearn/metrics/_classification.py:1531: UndefinedMetricWarning: Precision is ill-defined and being set to 0.0 due to no predicted samples. Use `zero_division` parameter to control this behavior.\n",
            "  _warn_prf(average, modifier, f\"{metric.capitalize()} is\", len(result))\n"
          ]
        }
      ]
    },
    {
      "cell_type": "markdown",
      "source": [
        "Evaluated the dummy classifier's performance using the same metrics I used for my model.\n",
        "\n",
        "My model has significantly outperforms the dummy classifier based on key performance metrics."
      ],
      "metadata": {
        "id": "vhOQtG7Ox-yr"
      }
    },
    {
      "cell_type": "markdown",
      "source": [
        "**Importance Analysis**"
      ],
      "metadata": {
        "id": "VvxUEYIr9g53"
      }
    },
    {
      "cell_type": "code",
      "source": [
        "\n",
        "from sklearn.ensemble import RandomForestClassifier\n",
        "# Feature Importance: Exclude this step from affecting `model` but keep it for `model2`\n",
        "rf = RandomForestClassifier(n_estimators=100, random_state=42)\n",
        "rf.fit(X_train, y_train)\n",
        "importances = rf.feature_importances_\n",
        "feature_names = X.columns\n",
        "feature_importances = pd.DataFrame({'Feature': feature_names, 'Importance': importances}).sort_values(by='Importance', ascending=False)\n",
        "\n",
        "print(feature_importances)\n",
        "\n"
      ],
      "metadata": {
        "id": "SE82Wiqs47BO",
        "outputId": "5e2e0014-8adf-4556-f6f4-d36d164bd066",
        "colab": {
          "base_uri": "https://localhost:8080/"
        }
      },
      "execution_count": 53,
      "outputs": [
        {
          "output_type": "stream",
          "name": "stdout",
          "text": [
            "                    Feature  Importance\n",
            "0                       Age    0.193292\n",
            "7                 Date.diff    0.170264\n",
            "8                  Gender_M    0.030409\n",
            "6              SMS_received    0.015975\n",
            "1               Scholarship    0.013323\n",
            "..                      ...         ...\n",
            "36  ScheduledDay_2016-02-18    0.000005\n",
            "23  ScheduledDay_2016-01-26    0.000003\n",
            "9   ScheduledDay_2015-12-03    0.000003\n",
            "14  ScheduledDay_2016-01-04    0.000001\n",
            "33  ScheduledDay_2016-02-15    0.000000\n",
            "\n",
            "[216 rows x 2 columns]\n"
          ]
        }
      ]
    },
    {
      "cell_type": "markdown",
      "source": [
        "The table shows that:\n",
        "\n",
        "  Age has the highest importance (19.33%), suggesting it is a strong predictor of patient attendance.\n",
        "  Date.diff (the difference between scheduled and actual appointment dates) is the second most important feature (17.02%), indicating its predictive power.\n",
        " Gender_M, SMS_received, and Hipertension have lower importance, meaning they contribute less to the prediction compared to numerical features like Age and Date.diff."
      ],
      "metadata": {
        "id": "WWeky9bX9u2a"
      }
    },
    {
      "cell_type": "markdown",
      "source": [
        " Identifying these key predictors can guide feature selection and model interpretation, helping you build a more effective predictive model. We could focus on the most important features identified here to improve the models performance."
      ],
      "metadata": {
        "id": "SG8349_h7FM6"
      }
    },
    {
      "cell_type": "code",
      "source": [
        "# Defining the second model model2\n",
        "model2 = Sequential([\n",
        "    Input(shape=(X_resampled.shape[1],)),\n",
        "    Dense(64, activation='relu'),\n",
        "    Dropout(0.5),\n",
        "    Dense(32, activation='relu'),\n",
        "    Dropout(0.5),\n",
        "    Dense(1, activation='sigmoid')\n",
        "])\n",
        "\n",
        "# Compile model2\n",
        "model2.compile(loss='binary_crossentropy', optimizer=Adam(), metrics=['accuracy'])# Train model2\n",
        "history2 = model2.fit(X_resampled, y_resampled, epochs=50, batch_size=32, validation_split=0.2,\n",
        "                      callbacks=[EarlyStopping(monitor='val_loss', patience=5, restore_best_weights=True)])\n",
        "\n",
        "# Train the model with early stopping\n",
        "from tensorflow.keras.callbacks import EarlyStopping\n",
        "early_stopping = EarlyStopping(monitor='val_loss', patience=5, restore_best_weights=True)\n",
        "history2 = model2.fit(X_train, y_train, epochs=50, batch_size=32, validation_data=(X_test, y_test), callbacks=[early_stopping])\n",
        "\n",
        "# Predict on test data\n",
        "y_pred = (model2.predict(X_test) > 0.5).astype(int)\n",
        "\n",
        "# Evaluate the model\n",
        "accuracy2 = accuracy_score(y_test, y_pred)\n",
        "precision2 = precision_score(y_test, y_pred)\n",
        "recall2 = recall_score(y_test, y_pred)\n",
        "f1_2 = f1_score(y_test, y_pred)\n",
        "\n",
        "print(f\"Accuracy: {accuracy2:.3f}\")\n",
        "print(f\"Precision: {precision2:.3f}\")\n",
        "print(f\"Recall: {recall2:.3f}\")\n",
        "print(f\"F1 Score: {f1_2:.3f}\")"
      ],
      "metadata": {
        "id": "K4qx1G3p-4yl",
        "outputId": "a94f5538-fd31-4843-8239-bcba208b11b9",
        "colab": {
          "base_uri": "https://localhost:8080/"
        }
      },
      "execution_count": 54,
      "outputs": [
        {
          "output_type": "stream",
          "name": "stdout",
          "text": [
            "Epoch 1/50\n",
            "\u001b[1m1084/1084\u001b[0m \u001b[32m━━━━━━━━━━━━━━━━━━━━\u001b[0m\u001b[37m\u001b[0m \u001b[1m5s\u001b[0m 3ms/step - accuracy: 0.5858 - loss: 0.7202 - val_accuracy: 0.0596 - val_loss: 2.3840\n",
            "Epoch 2/50\n",
            "\u001b[1m1084/1084\u001b[0m \u001b[32m━━━━━━━━━━━━━━━━━━━━\u001b[0m\u001b[37m\u001b[0m \u001b[1m3s\u001b[0m 2ms/step - accuracy: 0.6788 - loss: 0.5592 - val_accuracy: 0.1430 - val_loss: 3.9294\n",
            "Epoch 3/50\n",
            "\u001b[1m1084/1084\u001b[0m \u001b[32m━━━━━━━━━━━━━━━━━━━━\u001b[0m\u001b[37m\u001b[0m \u001b[1m3s\u001b[0m 2ms/step - accuracy: 0.6962 - loss: 0.5337 - val_accuracy: 0.2094 - val_loss: 5.1869\n",
            "Epoch 4/50\n",
            "\u001b[1m1084/1084\u001b[0m \u001b[32m━━━━━━━━━━━━━━━━━━━━\u001b[0m\u001b[37m\u001b[0m \u001b[1m2s\u001b[0m 2ms/step - accuracy: 0.7096 - loss: 0.5186 - val_accuracy: 0.2138 - val_loss: 5.9725\n",
            "Epoch 5/50\n",
            "\u001b[1m1084/1084\u001b[0m \u001b[32m━━━━━━━━━━━━━━━━━━━━\u001b[0m\u001b[37m\u001b[0m \u001b[1m4s\u001b[0m 4ms/step - accuracy: 0.7106 - loss: 0.5136 - val_accuracy: 0.2204 - val_loss: 7.1239\n",
            "Epoch 6/50\n",
            "\u001b[1m1084/1084\u001b[0m \u001b[32m━━━━━━━━━━━━━━━━━━━━\u001b[0m\u001b[37m\u001b[0m \u001b[1m3s\u001b[0m 3ms/step - accuracy: 0.7197 - loss: 0.5040 - val_accuracy: 0.2239 - val_loss: 7.6214\n",
            "Epoch 1/50\n",
            "\u001b[1m1084/1084\u001b[0m \u001b[32m━━━━━━━━━━━━━━━━━━━━\u001b[0m\u001b[37m\u001b[0m \u001b[1m3s\u001b[0m 2ms/step - accuracy: 0.5914 - loss: 0.6869 - val_accuracy: 0.6317 - val_loss: 0.6474\n",
            "Epoch 2/50\n",
            "\u001b[1m1084/1084\u001b[0m \u001b[32m━━━━━━━━━━━━━━━━━━━━\u001b[0m\u001b[37m\u001b[0m \u001b[1m6s\u001b[0m 3ms/step - accuracy: 0.6232 - loss: 0.6505 - val_accuracy: 0.6571 - val_loss: 0.6278\n",
            "Epoch 3/50\n",
            "\u001b[1m1084/1084\u001b[0m \u001b[32m━━━━━━━━━━━━━━━━━━━━\u001b[0m\u001b[37m\u001b[0m \u001b[1m3s\u001b[0m 3ms/step - accuracy: 0.6470 - loss: 0.6322 - val_accuracy: 0.6587 - val_loss: 0.6176\n",
            "Epoch 4/50\n",
            "\u001b[1m1084/1084\u001b[0m \u001b[32m━━━━━━━━━━━━━━━━━━━━\u001b[0m\u001b[37m\u001b[0m \u001b[1m5s\u001b[0m 3ms/step - accuracy: 0.6553 - loss: 0.6242 - val_accuracy: 0.6625 - val_loss: 0.6133\n",
            "Epoch 5/50\n",
            "\u001b[1m1084/1084\u001b[0m \u001b[32m━━━━━━━━━━━━━━━━━━━━\u001b[0m\u001b[37m\u001b[0m \u001b[1m5s\u001b[0m 3ms/step - accuracy: 0.6649 - loss: 0.6154 - val_accuracy: 0.6637 - val_loss: 0.6086\n",
            "Epoch 6/50\n",
            "\u001b[1m1084/1084\u001b[0m \u001b[32m━━━━━━━━━━━━━━━━━━━━\u001b[0m\u001b[37m\u001b[0m \u001b[1m4s\u001b[0m 2ms/step - accuracy: 0.6687 - loss: 0.6088 - val_accuracy: 0.6655 - val_loss: 0.6061\n",
            "Epoch 7/50\n",
            "\u001b[1m1084/1084\u001b[0m \u001b[32m━━━━━━━━━━━━━━━━━━━━\u001b[0m\u001b[37m\u001b[0m \u001b[1m3s\u001b[0m 2ms/step - accuracy: 0.6684 - loss: 0.6052 - val_accuracy: 0.6655 - val_loss: 0.6046\n",
            "Epoch 8/50\n",
            "\u001b[1m1084/1084\u001b[0m \u001b[32m━━━━━━━━━━━━━━━━━━━━\u001b[0m\u001b[37m\u001b[0m \u001b[1m3s\u001b[0m 2ms/step - accuracy: 0.6687 - loss: 0.6057 - val_accuracy: 0.6619 - val_loss: 0.6066\n",
            "Epoch 9/50\n",
            "\u001b[1m1084/1084\u001b[0m \u001b[32m━━━━━━━━━━━━━━━━━━━━\u001b[0m\u001b[37m\u001b[0m \u001b[1m6s\u001b[0m 3ms/step - accuracy: 0.6727 - loss: 0.5996 - val_accuracy: 0.6641 - val_loss: 0.6074\n",
            "Epoch 10/50\n",
            "\u001b[1m1084/1084\u001b[0m \u001b[32m━━━━━━━━━━━━━━━━━━━━\u001b[0m\u001b[37m\u001b[0m \u001b[1m4s\u001b[0m 2ms/step - accuracy: 0.6736 - loss: 0.5961 - val_accuracy: 0.6642 - val_loss: 0.6033\n",
            "Epoch 11/50\n",
            "\u001b[1m1084/1084\u001b[0m \u001b[32m━━━━━━━━━━━━━━━━━━━━\u001b[0m\u001b[37m\u001b[0m \u001b[1m3s\u001b[0m 3ms/step - accuracy: 0.6737 - loss: 0.5983 - val_accuracy: 0.6650 - val_loss: 0.6028\n",
            "Epoch 12/50\n",
            "\u001b[1m1084/1084\u001b[0m \u001b[32m━━━━━━━━━━━━━━━━━━━━\u001b[0m\u001b[37m\u001b[0m \u001b[1m7s\u001b[0m 4ms/step - accuracy: 0.6719 - loss: 0.5983 - val_accuracy: 0.6666 - val_loss: 0.6029\n",
            "Epoch 13/50\n",
            "\u001b[1m1084/1084\u001b[0m \u001b[32m━━━━━━━━━━━━━━━━━━━━\u001b[0m\u001b[37m\u001b[0m \u001b[1m3s\u001b[0m 2ms/step - accuracy: 0.6763 - loss: 0.5936 - val_accuracy: 0.6657 - val_loss: 0.6047\n",
            "Epoch 14/50\n",
            "\u001b[1m1084/1084\u001b[0m \u001b[32m━━━━━━━━━━━━━━━━━━━━\u001b[0m\u001b[37m\u001b[0m \u001b[1m3s\u001b[0m 2ms/step - accuracy: 0.6745 - loss: 0.5923 - val_accuracy: 0.6667 - val_loss: 0.6029\n",
            "Epoch 15/50\n",
            "\u001b[1m1084/1084\u001b[0m \u001b[32m━━━━━━━━━━━━━━━━━━━━\u001b[0m\u001b[37m\u001b[0m \u001b[1m6s\u001b[0m 3ms/step - accuracy: 0.6774 - loss: 0.5898 - val_accuracy: 0.6629 - val_loss: 0.6031\n",
            "Epoch 16/50\n",
            "\u001b[1m1084/1084\u001b[0m \u001b[32m━━━━━━━━━━━━━━━━━━━━\u001b[0m\u001b[37m\u001b[0m \u001b[1m4s\u001b[0m 3ms/step - accuracy: 0.6750 - loss: 0.5941 - val_accuracy: 0.6667 - val_loss: 0.6008\n",
            "Epoch 17/50\n",
            "\u001b[1m1084/1084\u001b[0m \u001b[32m━━━━━━━━━━━━━━━━━━━━\u001b[0m\u001b[37m\u001b[0m \u001b[1m5s\u001b[0m 3ms/step - accuracy: 0.6772 - loss: 0.5893 - val_accuracy: 0.6684 - val_loss: 0.6007\n",
            "Epoch 18/50\n",
            "\u001b[1m1084/1084\u001b[0m \u001b[32m━━━━━━━━━━━━━━━━━━━━\u001b[0m\u001b[37m\u001b[0m \u001b[1m4s\u001b[0m 3ms/step - accuracy: 0.6762 - loss: 0.5895 - val_accuracy: 0.6702 - val_loss: 0.5990\n",
            "Epoch 19/50\n",
            "\u001b[1m1084/1084\u001b[0m \u001b[32m━━━━━━━━━━━━━━━━━━━━\u001b[0m\u001b[37m\u001b[0m \u001b[1m4s\u001b[0m 3ms/step - accuracy: 0.6805 - loss: 0.5856 - val_accuracy: 0.6652 - val_loss: 0.6022\n",
            "Epoch 20/50\n",
            "\u001b[1m1084/1084\u001b[0m \u001b[32m━━━━━━━━━━━━━━━━━━━━\u001b[0m\u001b[37m\u001b[0m \u001b[1m5s\u001b[0m 2ms/step - accuracy: 0.6776 - loss: 0.5885 - val_accuracy: 0.6670 - val_loss: 0.6014\n",
            "Epoch 21/50\n",
            "\u001b[1m1084/1084\u001b[0m \u001b[32m━━━━━━━━━━━━━━━━━━━━\u001b[0m\u001b[37m\u001b[0m \u001b[1m3s\u001b[0m 3ms/step - accuracy: 0.6819 - loss: 0.5842 - val_accuracy: 0.6661 - val_loss: 0.6016\n",
            "Epoch 22/50\n",
            "\u001b[1m1084/1084\u001b[0m \u001b[32m━━━━━━━━━━━━━━━━━━━━\u001b[0m\u001b[37m\u001b[0m \u001b[1m4s\u001b[0m 3ms/step - accuracy: 0.6801 - loss: 0.5854 - val_accuracy: 0.6655 - val_loss: 0.6023\n",
            "Epoch 23/50\n",
            "\u001b[1m1084/1084\u001b[0m \u001b[32m━━━━━━━━━━━━━━━━━━━━\u001b[0m\u001b[37m\u001b[0m \u001b[1m3s\u001b[0m 2ms/step - accuracy: 0.6753 - loss: 0.5863 - val_accuracy: 0.6647 - val_loss: 0.6016\n",
            "\u001b[1m271/271\u001b[0m \u001b[32m━━━━━━━━━━━━━━━━━━━━\u001b[0m\u001b[37m\u001b[0m \u001b[1m0s\u001b[0m 1ms/step\n",
            "Accuracy: 0.670\n",
            "Precision: 0.815\n",
            "Recall: 0.445\n",
            "F1 Score: 0.576\n"
          ]
        }
      ]
    },
    {
      "cell_type": "markdown",
      "source": [
        "Model 2 shows moderate performance in predicting patient attendance (Showed_up or No Show). With an accuracy of 67%, it correctly identifies about 67% of patients’ attendance statuses. The high precision of 81.5% indicates that the model is good at avoiding false positives by correctly identifying patients who will show up. However, the low recall of 44.5% suggests that it struggles with identifying patients who do not show up, missing a significant number of true negatives. The F1 score of 57.6% reflects a balanced but moderate performance, showing that while the model captures both Showed_up and No Show patients to a degree, it could benefit from further refinement. Enhancing recall and overall model effectiveness may require additional techniques like oversampling, adjusting class weights, or exploring more complex modeling methods."
      ],
      "metadata": {
        "id": "44ri-koOBK5n"
      }
    }
  ]
}