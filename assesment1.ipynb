{
  "nbformat": 4,
  "nbformat_minor": 0,
  "metadata": {
    "colab": {
      "provenance": [],
      "authorship_tag": "ABX9TyMzDbLqL/EVUu2J7YiEYulk"
    },
    "kernelspec": {
      "name": "python3",
      "display_name": "Python 3"
    },
    "language_info": {
      "name": "python"
    }
  },
  "cells": [
    {
      "cell_type": "code",
      "execution_count": null,
      "metadata": {
        "id": "qJT2SJFzek46",
        "colab": {
          "base_uri": "https://localhost:8080/"
        },
        "outputId": "0c4e7e1b-aa7d-4099-f3a9-e565941a52b7"
      },
      "outputs": [
        {
          "output_type": "stream",
          "name": "stdout",
          "text": [
            "Cloning into 'assessment-1-neural-networks'...\n",
            "remote: Enumerating objects: 27, done.\u001b[K\n",
            "remote: Counting objects: 100% (27/27), done.\u001b[K\n",
            "remote: Compressing objects: 100% (26/26), done.\u001b[K\n",
            "remote: Total 27 (delta 12), reused 0 (delta 0), pack-reused 0 (from 0)\u001b[K\n",
            "Receiving objects: 100% (27/27), 2.01 MiB | 2.69 MiB/s, done.\n",
            "Resolving deltas: 100% (12/12), done.\n"
          ]
        }
      ],
      "source": [
        "!git clone https://github.com/NataliaVrabcova/assessment-1-neural-networks"
      ]
    },
    {
      "cell_type": "code",
      "source": [
        "import pandas as pd\n",
        "\n",
        "# Adjust the path to match your repository structure\n",
        "data = pd.read_csv('/content/assessment-1-neural-networks/healthcare_noshows_appointments.csv')\n",
        "\n",
        "# Verify the dataset is loaded\n",
        "print(data.head())"
      ],
      "metadata": {
        "colab": {
          "base_uri": "https://localhost:8080/"
        },
        "id": "cOhms_5agG9I",
        "outputId": "14885b29-2d98-4e5b-e04d-946fbaa13158"
      },
      "execution_count": null,
      "outputs": [
        {
          "output_type": "stream",
          "name": "stdout",
          "text": [
            "      PatientId  AppointmentID Gender ScheduledDay AppointmentDay  Age  \\\n",
            "0  2.987250e+13        5642903      F   2016-04-29     2016-04-29   62   \n",
            "1  5.589978e+14        5642503      M   2016-04-29     2016-04-29   56   \n",
            "2  4.262962e+12        5642549      F   2016-04-29     2016-04-29   62   \n",
            "3  8.679512e+11        5642828      F   2016-04-29     2016-04-29    8   \n",
            "4  8.841186e+12        5642494      F   2016-04-29     2016-04-29   56   \n",
            "\n",
            "       Neighbourhood  Scholarship  Hipertension  Diabetes  Alcoholism  \\\n",
            "0    JARDIM DA PENHA        False          True     False       False   \n",
            "1    JARDIM DA PENHA        False         False     False       False   \n",
            "2      MATA DA PRAIA        False         False     False       False   \n",
            "3  PONTAL DE CAMBURI        False         False     False       False   \n",
            "4    JARDIM DA PENHA        False          True      True       False   \n",
            "\n",
            "   Handcap  SMS_received  Showed_up  Date.diff  \n",
            "0    False         False       True          0  \n",
            "1    False         False       True          0  \n",
            "2    False         False       True          0  \n",
            "3    False         False       True          0  \n",
            "4    False         False       True          0  \n"
          ]
        }
      ]
    },
    {
      "cell_type": "code",
      "source": [
        "# Importing libraries\n",
        "from sklearn.metrics import confusion_matrix, accuracy_score, precision_score, recall_score, f1_score\n",
        "from sklearn.model_selection import train_test_split\n",
        "from sklearn.preprocessing import StandardScaler\n",
        "from tensorflow.keras.models import Sequential\n",
        "from tensorflow.keras.layers import Input, Dense, Dropout\n",
        "from tensorflow.keras.optimizers import Adam\n",
        "import matplotlib.pyplot as plt\n",
        "import seaborn as sns"
      ],
      "metadata": {
        "id": "zI3gtgDdggVZ"
      },
      "execution_count": null,
      "outputs": []
    },
    {
      "cell_type": "markdown",
      "source": [
        "Preprocessing the Data"
      ],
      "metadata": {
        "id": "CXsF4oD6gz_u"
      }
    },
    {
      "cell_type": "code",
      "source": [
        "# Selecting features and target variable\n",
        "X = data.drop(['Showed_up', 'PatientId', 'AppointmentID'], axis=1)\n",
        "y = data['Showed_up']\n",
        "\n",
        "# Encoding categorical variables\n",
        "X = pd.get_dummies(X, drop_first=True)\n",
        "\n",
        "# Splitting the data into training and testing sets\n",
        "X_train, X_test, y_train, y_test = train_test_split(X, y, test_size=0.2, random_state=42)\n",
        "\n",
        "# Feature scaling\n",
        "scaler = StandardScaler()\n",
        "X_train = scaler.fit_transform(X_train)\n",
        "X_test = scaler.transform(X_test)"
      ],
      "metadata": {
        "id": "fAjwQuJIgx0I"
      },
      "execution_count": null,
      "outputs": []
    },
    {
      "cell_type": "markdown",
      "source": [
        "Feature Selection: Excludes columns not needed for model training, such as IDs and the target variable itself.\n",
        "Categorical Encoding: Converts categorical data into a numerical format suitable for neural network training.\n",
        "Data Splitting: Divides the data into training and testing sets to validate the model’s performance.\n",
        "Feature Scaling: Normalizes the data to ensure that all features contribute equally to the learning process."
      ],
      "metadata": {
        "id": "I_wLyJpkuMFw"
      }
    },
    {
      "cell_type": "markdown",
      "source": [
        "Defining the architecture of the neural network:"
      ],
      "metadata": {
        "id": "hc6LdNHkg1YR"
      }
    },
    {
      "cell_type": "code",
      "source": [
        "# Defining the neural network model\n",
        "model = Sequential([\n",
        "    Input(shape=(X_train.shape[1],)),\n",
        "    Dense(64, activation='relu'),\n",
        "    Dropout(0.5),\n",
        "    Dense(32, activation='relu'),\n",
        "    Dropout(0.5),\n",
        "    Dense(1, activation='sigmoid')\n",
        "])\n",
        "\n",
        "# Compile the model\n",
        "model.compile(loss='binary_crossentropy', optimizer=Adam(), metrics=['accuracy'])"
      ],
      "metadata": {
        "id": "BoWrhYMYg3N0"
      },
      "execution_count": 71,
      "outputs": []
    },
    {
      "cell_type": "markdown",
      "source": [
        "Input Layer: Defines the input shape based on the number of features after\n",
        "preprocessing.\n",
        "\n",
        "Hidden Layers: Uses ReLU activation for hidden layers (64 and 32 neurons), This is common for capturing complex patterns.\n",
        "\n",
        "Dropout: Helps prevent overfitting by randomly setting some of the input units to zero at each update during training.\n",
        "\n",
        "Output Layer: A sigmoid activation function is appropriate for binary classification tasks (showed up or not)."
      ],
      "metadata": {
        "id": "P8AVNnC-uZyM"
      }
    },
    {
      "cell_type": "markdown",
      "source": [
        "**The Adam** optimizer was chosen due to its adaptability and efficiency in handling sparse gradients. The default learning rate of 0.001 was used, as it generally works well for a wide range of tasks and often provides a good starting point for optimization. This ensures stable and efficient convergence without the need for extensive fine-tuning."
      ],
      "metadata": {
        "id": "9VqV4uAq6cGf"
      }
    },
    {
      "cell_type": "markdown",
      "source": [
        "Train the model with your preprocessed data:"
      ],
      "metadata": {
        "id": "UfSZYeyIhMeY"
      }
    },
    {
      "cell_type": "code",
      "source": [
        "from tensorflow.keras.callbacks import EarlyStopping\n",
        "\n",
        "# Initialize the early stopping callback\n",
        "early_stopping = EarlyStopping(monitor='val_loss',  # monitor validation loss\n",
        "                              patience=5,          # number of epochs with no improvement to wait before stopping\n",
        "                              restore_best_weights=True) # restores the model to the best weights\n",
        "\n",
        "\n",
        "# Train the model\n",
        "history = model.fit(X_train, y_train, epochs=50, batch_size=32, validation_data=(X_test, y_test),callbacks=[early_stopping])"
      ],
      "metadata": {
        "colab": {
          "base_uri": "https://localhost:8080/"
        },
        "id": "38eDevsChOZD",
        "outputId": "a2bc20ee-1b69-46b9-d60e-c75442c60f3b"
      },
      "execution_count": 72,
      "outputs": [
        {
          "output_type": "stream",
          "name": "stdout",
          "text": [
            "Epoch 1/50\n",
            "\u001b[1m5350/5350\u001b[0m \u001b[32m━━━━━━━━━━━━━━━━━━━━\u001b[0m\u001b[37m\u001b[0m \u001b[1m20s\u001b[0m 3ms/step - accuracy: 0.7802 - loss: 0.5363 - val_accuracy: 0.7979 - val_loss: 0.4656\n",
            "Epoch 2/50\n",
            "\u001b[1m5350/5350\u001b[0m \u001b[32m━━━━━━━━━━━━━━━━━━━━\u001b[0m\u001b[37m\u001b[0m \u001b[1m18s\u001b[0m 2ms/step - accuracy: 0.7988 - loss: 0.4666 - val_accuracy: 0.7979 - val_loss: 0.4566\n",
            "Epoch 3/50\n",
            "\u001b[1m5350/5350\u001b[0m \u001b[32m━━━━━━━━━━━━━━━━━━━━\u001b[0m\u001b[37m\u001b[0m \u001b[1m13s\u001b[0m 2ms/step - accuracy: 0.7951 - loss: 0.4644 - val_accuracy: 0.7979 - val_loss: 0.4558\n",
            "Epoch 4/50\n",
            "\u001b[1m5350/5350\u001b[0m \u001b[32m━━━━━━━━━━━━━━━━━━━━\u001b[0m\u001b[37m\u001b[0m \u001b[1m12s\u001b[0m 2ms/step - accuracy: 0.7962 - loss: 0.4557 - val_accuracy: 0.7979 - val_loss: 0.4534\n",
            "Epoch 5/50\n",
            "\u001b[1m5350/5350\u001b[0m \u001b[32m━━━━━━━━━━━━━━━━━━━━\u001b[0m\u001b[37m\u001b[0m \u001b[1m20s\u001b[0m 2ms/step - accuracy: 0.7963 - loss: 0.4563 - val_accuracy: 0.7980 - val_loss: 0.4534\n",
            "Epoch 6/50\n",
            "\u001b[1m5350/5350\u001b[0m \u001b[32m━━━━━━━━━━━━━━━━━━━━\u001b[0m\u001b[37m\u001b[0m \u001b[1m10s\u001b[0m 2ms/step - accuracy: 0.7961 - loss: 0.4546 - val_accuracy: 0.7979 - val_loss: 0.4528\n",
            "Epoch 7/50\n",
            "\u001b[1m5350/5350\u001b[0m \u001b[32m━━━━━━━━━━━━━━━━━━━━\u001b[0m\u001b[37m\u001b[0m \u001b[1m23s\u001b[0m 2ms/step - accuracy: 0.7959 - loss: 0.4546 - val_accuracy: 0.7979 - val_loss: 0.4512\n",
            "Epoch 8/50\n",
            "\u001b[1m5350/5350\u001b[0m \u001b[32m━━━━━━━━━━━━━━━━━━━━\u001b[0m\u001b[37m\u001b[0m \u001b[1m19s\u001b[0m 2ms/step - accuracy: 0.7984 - loss: 0.4482 - val_accuracy: 0.7978 - val_loss: 0.4513\n",
            "Epoch 9/50\n",
            "\u001b[1m5350/5350\u001b[0m \u001b[32m━━━━━━━━━━━━━━━━━━━━\u001b[0m\u001b[37m\u001b[0m \u001b[1m21s\u001b[0m 2ms/step - accuracy: 0.7999 - loss: 0.4482 - val_accuracy: 0.7980 - val_loss: 0.4518\n",
            "Epoch 10/50\n",
            "\u001b[1m5350/5350\u001b[0m \u001b[32m━━━━━━━━━━━━━━━━━━━━\u001b[0m\u001b[37m\u001b[0m \u001b[1m20s\u001b[0m 2ms/step - accuracy: 0.7979 - loss: 0.4508 - val_accuracy: 0.7979 - val_loss: 0.4512\n",
            "Epoch 11/50\n",
            "\u001b[1m5350/5350\u001b[0m \u001b[32m━━━━━━━━━━━━━━━━━━━━\u001b[0m\u001b[37m\u001b[0m \u001b[1m13s\u001b[0m 2ms/step - accuracy: 0.7985 - loss: 0.4475 - val_accuracy: 0.7979 - val_loss: 0.4501\n",
            "Epoch 12/50\n",
            "\u001b[1m5350/5350\u001b[0m \u001b[32m━━━━━━━━━━━━━━━━━━━━\u001b[0m\u001b[37m\u001b[0m \u001b[1m21s\u001b[0m 2ms/step - accuracy: 0.7984 - loss: 0.4468 - val_accuracy: 0.7978 - val_loss: 0.4501\n",
            "Epoch 13/50\n",
            "\u001b[1m5350/5350\u001b[0m \u001b[32m━━━━━━━━━━━━━━━━━━━━\u001b[0m\u001b[37m\u001b[0m \u001b[1m19s\u001b[0m 2ms/step - accuracy: 0.7962 - loss: 0.4486 - val_accuracy: 0.7981 - val_loss: 0.4496\n",
            "Epoch 14/50\n",
            "\u001b[1m5350/5350\u001b[0m \u001b[32m━━━━━━━━━━━━━━━━━━━━\u001b[0m\u001b[37m\u001b[0m \u001b[1m12s\u001b[0m 2ms/step - accuracy: 0.7995 - loss: 0.4479 - val_accuracy: 0.7986 - val_loss: 0.4514\n",
            "Epoch 15/50\n",
            "\u001b[1m5350/5350\u001b[0m \u001b[32m━━━━━━━━━━━━━━━━━━━━\u001b[0m\u001b[37m\u001b[0m \u001b[1m22s\u001b[0m 2ms/step - accuracy: 0.7989 - loss: 0.4475 - val_accuracy: 0.7979 - val_loss: 0.4501\n",
            "Epoch 16/50\n",
            "\u001b[1m5350/5350\u001b[0m \u001b[32m━━━━━━━━━━━━━━━━━━━━\u001b[0m\u001b[37m\u001b[0m \u001b[1m13s\u001b[0m 2ms/step - accuracy: 0.7998 - loss: 0.4438 - val_accuracy: 0.7986 - val_loss: 0.4514\n",
            "Epoch 17/50\n",
            "\u001b[1m5350/5350\u001b[0m \u001b[32m━━━━━━━━━━━━━━━━━━━━\u001b[0m\u001b[37m\u001b[0m \u001b[1m19s\u001b[0m 2ms/step - accuracy: 0.7989 - loss: 0.4453 - val_accuracy: 0.7981 - val_loss: 0.4498\n",
            "Epoch 18/50\n",
            "\u001b[1m5350/5350\u001b[0m \u001b[32m━━━━━━━━━━━━━━━━━━━━\u001b[0m\u001b[37m\u001b[0m \u001b[1m20s\u001b[0m 2ms/step - accuracy: 0.8005 - loss: 0.4439 - val_accuracy: 0.7979 - val_loss: 0.4509\n"
          ]
        }
      ]
    },
    {
      "cell_type": "markdown",
      "source": [
        "Epochs: Set to 25 to allow the model to train over multiple iterations, capturing different patterns in the data. This number was selected to allow the model sufficient iterations to learn patterns in the data while avoiding overfitting. Early stopping techniques could be employed in future experiments to determine the optimal number of epochs dynamically based on validation performance.\n",
        "\n",
        "Batch Size: smaller batch sizes can aid in faster convergence, whereas larger sizes can provide more accurate updates. We selected 32 as a batch size, as it is a commonly used standard that balances computational efficiency, convergence speed, and model performance.\n",
        "Validation Data: Monitors the model’s performance on a holdout set to prevent overfitting."
      ],
      "metadata": {
        "id": "vZylsyZAuyaU"
      }
    },
    {
      "cell_type": "markdown",
      "source": [
        "Evaluate the model’s performance:"
      ],
      "metadata": {
        "id": "6Re5Ik1ThPE2"
      }
    },
    {
      "cell_type": "code",
      "source": [
        "# Evaluate the model\n",
        "y_pred = (model.predict(X_test) > 0.5).astype(int)\n",
        "accuracy = accuracy_score(y_test, y_pred)\n",
        "print(f\"Accuracy: {accuracy:.4f}\")"
      ],
      "metadata": {
        "colab": {
          "base_uri": "https://localhost:8080/"
        },
        "id": "_NBmsJRDhTtN",
        "outputId": "3fbf395f-de01-44f0-8f66-ec9888e82242"
      },
      "execution_count": 66,
      "outputs": [
        {
          "output_type": "stream",
          "name": "stdout",
          "text": [
            "\u001b[1m669/669\u001b[0m \u001b[32m━━━━━━━━━━━━━━━━━━━━\u001b[0m\u001b[37m\u001b[0m \u001b[1m1s\u001b[0m 1ms/step\n",
            "Accuracy: 0.7954\n"
          ]
        }
      ]
    },
    {
      "cell_type": "markdown",
      "source": [
        "Accuracy Calculation: Measures the proportion of correct predictions on the test set. A higher accuracy indicates a better-performing model."
      ],
      "metadata": {
        "id": "sNXfrEeFvkbv"
      }
    },
    {
      "cell_type": "markdown",
      "source": [
        "Evaluate the model on the test set"
      ],
      "metadata": {
        "id": "QNvkpyt9mH_5"
      }
    },
    {
      "cell_type": "code",
      "source": [
        "test_loss, test_accuracy = model.evaluate(X_test, y_test)"
      ],
      "metadata": {
        "id": "7yTVyktAmBvL",
        "outputId": "985701a7-80c8-40c7-aa4a-647bbb028a51",
        "colab": {
          "base_uri": "https://localhost:8080/"
        }
      },
      "execution_count": 67,
      "outputs": [
        {
          "output_type": "stream",
          "name": "stdout",
          "text": [
            "\u001b[1m669/669\u001b[0m \u001b[32m━━━━━━━━━━━━━━━━━━━━\u001b[0m\u001b[37m\u001b[0m \u001b[1m2s\u001b[0m 2ms/step - accuracy: 0.7935 - loss: 0.5535\n"
          ]
        }
      ]
    },
    {
      "cell_type": "markdown",
      "source": [
        "Test Loss:\n",
        "  This value indicates the average error (or loss) of the model when it made predictions on the test data. A lower loss generally means that the model made fewer mistakes.\n",
        "\n",
        "Test Accuracy:\n",
        "  This metric shows the proportion of correct predictions (true positives + true negatives) out of the total predictions on the test set. A value closer to 1 indicates better performance.\n",
        "\n"
      ],
      "metadata": {
        "id": "QfR3U96zmEG1"
      }
    },
    {
      "cell_type": "markdown",
      "source": [
        "**Backpropagation:**"
      ],
      "metadata": {
        "id": "t39AbPZYvwU6"
      }
    },
    {
      "cell_type": "markdown",
      "source": [
        "This segment provides a step-by-step view of how the neural network processes data and adjusts its parameters during training. It helps to understand the underlying mechanism of how neural networks learn from data."
      ],
      "metadata": {
        "id": "GXQWepLcvwn7"
      }
    },
    {
      "cell_type": "code",
      "source": [
        "import numpy as np\n",
        "\n",
        "# Given parameters\n",
        "np.random.seed(42)  # For reproducibility\n",
        "X = np.random.rand(100, 14)  # Example data (100 samples, 14 features)\n",
        "W1 = np.random.rand(14, 64)  # Weights for the first hidden layer (14 input features, 64 neurons)\n",
        "b1 = np.random.rand(1, 64)  # Bias for the first hidden layer (64 neurons)\n",
        "learning_rate = 0.01  # Learning rate for gradient descent\n",
        "\n",
        "# Forward Propagation for the first hidden layer\n",
        "Z1 = np.dot(X, W1) + b1  # Linear transformation (Z1 = X * W1 + b1)\n",
        "A1 = np.maximum(0, Z1)   # ReLU activation (A1 = max(0, Z1))\n",
        "\n",
        "# Assuming we have a loss gradient with respect to A1\n",
        "dA1 = np.random.rand(100, 64)  # Gradient of the loss with respect to A1\n",
        "\n",
        "# Backward Propagation for the first hidden layer\n",
        "dZ1 = dA1 * (Z1 > 0)  # Derivative of ReLU (dZ1 = dA1 * (Z1 > 0))\n",
        "dW1 = np.dot(X.T, dZ1)  # Gradient of the loss with respect to W1 (dW1 = X^T * dZ1)\n",
        "db1 = np.sum(dZ1, axis=0, keepdims=True)  # Gradient of the loss with respect to b1 (db1 = sum(dZ1, axis=0))\n",
        "\n",
        "# Update weights and biases using gradient descent\n",
        "W1 -= learning_rate * dW1  # Updating weights\n",
        "b1 -= learning_rate * db1  # Updating biases\n",
        "\n",
        "print(\"Updated Weights:\", W1)\n",
        "print(\"Updated Biases:\", b1)"
      ],
      "metadata": {
        "id": "sueN-aTsB0S-",
        "colab": {
          "base_uri": "https://localhost:8080/"
        },
        "outputId": "48cb783d-5cb3-4f67-a41a-e0704f1d5056"
      },
      "execution_count": 92,
      "outputs": [
        {
          "output_type": "stream",
          "name": "stdout",
          "text": [
            "Updated Weights: [[-0.08125874 -0.05339725 -0.18822786  0.49590932  0.40460742  0.22565108\n",
            "   0.59683333  0.56271938  0.35027125  0.63337661 -0.04131268 -0.11141862\n",
            "   0.02589671 -0.19621695  0.27808314  0.71618474 -0.20297094 -0.12541995\n",
            "   0.20784032  0.6495928   0.06648496  0.23071753 -0.1822807  -0.07008991\n",
            "   0.73343516  0.75025924 -0.24763468  0.70640586  0.39840302  0.61664667\n",
            "   0.25782572  0.29661966  0.27429772  0.45009683 -0.10030549 -0.20740227\n",
            "   0.10138668  0.45514906 -0.06122674  0.46855759  0.72948376 -0.12892289\n",
            "   0.4570397   0.22201796  0.62617992 -0.09843425  0.4586323   0.6195166\n",
            "   0.7083525   0.44879316  0.28768621  0.38135983  0.65658593  0.34675892\n",
            "  -0.24213608  0.68913646  0.41330614  0.45577852 -0.00904106  0.41069397\n",
            "   0.14262257  0.4608456  -0.12394833  0.41192098]\n",
            " [ 0.73983558 -0.19585065  0.73786532  0.1545944   0.61881552  0.51755974\n",
            "   0.33299216  0.47075257  0.62414459  0.16098722  0.08739985  0.45104795\n",
            "   0.56157476  0.49241644  0.53468649  0.22491141  0.57666305 -0.15698932\n",
            "   0.2796094  -0.30100604  0.05994829  0.09023061  0.16085344  0.45364637\n",
            "   0.12992626  0.21323506 -0.00733881  0.10502007 -0.0187774  -0.18030433\n",
            "   0.38938247  0.41725532  0.40799216  0.23027182  0.11698044  0.63271288\n",
            "   0.29582322  0.23799792 -0.26472988  0.12640025  0.11168488  0.17487848\n",
            "   0.36491024  0.28789528  0.35262252  0.47883094  0.57908142  0.47880072\n",
            "   0.71279231 -0.20320452 -0.02942537 -0.24076281  0.40722298  0.65697286\n",
            "  -0.028027    0.6763057  -0.22374727  0.70799444  0.13923357 -0.14596636\n",
            "   0.24181046  0.04615437  0.04588949  0.05872966]\n",
            " [ 0.5482025   0.29584792  0.0684301   0.36238024  0.45198869  0.0123482\n",
            "   0.16072003 -0.14298992 -0.07474796  0.42751703 -0.07119052  0.28301585\n",
            "   0.47369145 -0.1790394   0.30667913  0.03051127  0.71647576  0.22244587\n",
            "   0.5523579   0.2662848  -0.23768019  0.34767257  0.70217171  0.36838642\n",
            "   0.55868191  0.63951975 -0.02647467 -0.0501514   0.35179982  0.14239543\n",
            "   0.61733475  0.66136767  0.13145877  0.00503838  0.51412483  0.03686254\n",
            "   0.6034893   0.15141403  0.38749564 -0.12558364  0.3821685   0.2140264\n",
            "   0.36227101 -0.07847891  0.47276332  0.57073036 -0.02980693 -0.14848418\n",
            "  -0.25142251  0.41405538  0.37526919  0.31672007 -0.00234504  0.14843692\n",
            "   0.28181819  0.25210719  0.71468327 -0.08584617  0.44917361  0.13905358\n",
            "   0.16129356  0.49916439  0.44265374  0.74585975]\n",
            " [-0.1264563  -0.13322262  0.48691601  0.32451741  0.01547341 -0.19255737\n",
            "  -0.16972711  0.62700694 -0.05532631  0.07891906 -0.02050247  0.13092733\n",
            "  -0.17046387  0.24659754 -0.20570593  0.58358703 -0.02114053  0.27869399\n",
            "   0.61618826  0.36481619  0.26618615  0.04590646  0.10395954  0.41719345\n",
            "   0.74227118  0.43106072  0.30192264  0.45830089  0.21158217 -0.19211015\n",
            "   0.3441217   0.71083512 -0.02599679  0.45218152 -0.07144059  0.27796745\n",
            "  -0.13515663  0.18550036  0.46028551  0.11838887  0.41253008  0.56487281\n",
            "   0.70893563 -0.0028889   0.14893074 -0.14416679  0.76604612  0.68409724\n",
            "   0.26505319  0.62053828  0.30454757  0.3859242  -0.14332653  0.48834429\n",
            "  -0.16775395  0.57638766  0.49060795  0.47294455 -0.19976044  0.04883057\n",
            "   0.00665339  0.13602747 -0.15622245  0.67840192]\n",
            " [ 0.27797957  0.06163998  0.15302461  0.19661251  0.3340112   0.23562432\n",
            "   0.66853204  0.22972853  0.72965004  0.59432015 -0.04251422  0.69389133\n",
            "  -0.1209393   0.53728955  0.10177435  0.65114995  0.60556438  0.55421646\n",
            "   0.51783659  0.00622628 -0.19182922  0.12542608 -0.07141731  0.44799278\n",
            "   0.08873509  0.73309708  0.3781096   0.56496839 -0.11275264  0.59644766\n",
            "   0.68479587  0.23898781  0.39615167  0.51958524 -0.10004606  0.26579142\n",
            "   0.16971207 -0.13673532  0.06882489 -0.14644474 -0.23467534 -0.10088012\n",
            "   0.71612782  0.31419964  0.69486039  0.14339563  0.06364956  0.24574371\n",
            "   0.17145698 -0.13109467  0.42100827 -0.04269115  0.38402922  0.37489753\n",
            "  -0.15279523 -0.20177761  0.48389267  0.22194969 -0.189978    0.71387215\n",
            "  -0.22196706  0.46969488  0.72869227 -0.00919208]\n",
            " [-0.09543066 -0.11287319  0.07709346 -0.13202043  0.45441484 -0.18277692\n",
            "   0.26962284  0.74295623  0.57438473  0.37873238  0.08042518  0.40818653\n",
            "   0.29493155  0.17022937 -0.1232783   0.6697894   0.2248565  -0.04554121\n",
            "   0.11066683  0.15510206  0.57645133  0.45853148  0.53526585 -0.21088602\n",
            "   0.17259354  0.26161106 -0.21486958  0.00537878  0.52355292 -0.11627541\n",
            "   0.33231392 -0.01365318 -0.18939102 -0.00879259  0.7324635   0.57887627\n",
            "   0.74220588  0.23643899 -0.1431188   0.33825758  0.2279037   0.60628759\n",
            "  -0.12561762  0.25201275 -0.08402149  0.04493994  0.5054273   0.23325809\n",
            "   0.11917603  0.18617944  0.25119158  0.55166726  0.64748046  0.72116884\n",
            "   0.50978652  0.08304401  0.42646707  0.21933526  0.04032211  0.61110954\n",
            "  -0.21093323  0.67581049  0.2351241   0.39478189]\n",
            " [ 0.43031086  0.66570868  0.41088605  0.38491637 -0.16632081  0.2878363\n",
            "  -0.08698471  0.47762861  0.28036546  0.45285669 -0.17734897 -0.1338815\n",
            "   0.48310612 -0.16288988 -0.16571779 -0.19414168  0.72453813  0.50338745\n",
            "   0.09761915  0.04352905  0.11455495  0.53094188  0.42328494 -0.03499069\n",
            "  -0.05581646 -0.10747687  0.41199653  0.52013692  0.04966117 -0.20675202\n",
            "  -0.11751733  0.76396857  0.10062528  0.52636799  0.37840534  0.15513448\n",
            "  -0.00818347 -0.11377163  0.36387403  0.57605027  0.40660544  0.29338797\n",
            "  -0.16990203  0.7583196   0.58221187  0.04123421  0.75915764  0.37503618\n",
            "   0.34309569  0.55411698  0.61670908  0.41613724 -0.09485574  0.11338913\n",
            "   0.6554062  -0.01066626  0.13709466  0.21984997  0.23191509  0.38225136\n",
            "   0.70585087  0.03899345 -0.10006338 -0.04116243]\n",
            " [ 0.63246491  0.41353287  0.03042457  0.5621808   0.6012744   0.56414584\n",
            "   0.65181722 -0.02658633  0.50073582  0.19377831  0.57530517  0.49388172\n",
            "   0.52399229  0.38914484 -0.09471695  0.32131535  0.73734908  0.66900947\n",
            "  -0.24568895 -0.12094582 -0.1441405   0.44403156  0.55493986 -0.03256145\n",
            "   0.24314715  0.61656409  0.47173464  0.26367894  0.33008774  0.25170445\n",
            "   0.08612345  0.3108865   0.4735647   0.61850019  0.36894457  0.50882819\n",
            "  -0.08514589  0.19913752 -0.27176407  0.0074258   0.4736395   0.75044423\n",
            "  -0.13163926  0.16069017  0.53894561 -0.08440345  0.29756813  0.48490612\n",
            "   0.34298026 -0.02758196  0.1294224   0.52123691  0.3035028  -0.26253214\n",
            "   0.46901207 -0.23124887  0.45991456 -0.03428677  0.7472401   0.10119176\n",
            "   0.05800205 -0.06692466  0.04613427  0.61506134]\n",
            " [ 0.75765109  0.15318244  0.2226584   0.47497883  0.66899942  0.34192237\n",
            "   0.17215444  0.15720407  0.45238543 -0.22212807  0.39256409  0.14807403\n",
            "   0.57688436 -0.15099729  0.33607631  0.26921313  0.40533563 -0.17806333\n",
            "   0.3310417   0.28727609  0.30894934  0.35637904  0.45121003  0.58032056\n",
            "   0.02592486  0.58791457  0.26341266 -0.17224102 -0.16610086  0.0933687\n",
            "   0.58738611  0.47508661  0.58797862  0.3030684   0.19962796 -0.07533342\n",
            "   0.11501195  0.18622365 -0.17496574  0.0077542   0.34267295  0.52446998\n",
            "   0.7823317   0.71604638  0.39366942  0.17288767  0.42637147  0.55928159\n",
            "  -0.1358116   0.20026376  0.63640963  0.15212324  0.34534808  0.3419293\n",
            "  -0.07179278  0.13443551  0.07327099 -0.19390878 -0.1890448   0.59258389\n",
            "   0.04194781  0.30964704  0.06026577  0.71196439]\n",
            " [-0.0281306   0.14872923  0.62175972  0.56792    -0.11667001  0.52077445\n",
            "   0.17969642  0.20836419 -0.15153014 -0.19232045  0.46564095  0.24965829\n",
            "   0.17318457  0.42803216  0.47684613 -0.09096474  0.33201437 -0.1685594\n",
            "   0.47049901  0.32971605  0.67404385 -0.22433953 -0.21058339  0.0263073\n",
            "  -0.0254672  -0.01029701  0.62887417 -0.02035565 -0.01696122  0.479156\n",
            "   0.2046379   0.5353001  -0.17314465  0.21863819 -0.25142225 -0.20605618\n",
            "   0.65608763 -0.13893762  0.23150267  0.17565776  0.06252911  0.64088604\n",
            "  -0.22547301  0.40920411  0.69056197  0.24104617  0.66454107 -0.20433744\n",
            "   0.12103467  0.01357227  0.49504145  0.70780555 -0.00947042  0.38507949\n",
            "  -0.11147286  0.28685451  0.157253    0.7135123   0.34178744  0.06541995\n",
            "  -0.16126405 -0.09689257 -0.05013156 -0.02238725]\n",
            " [ 0.5936382   0.30821405  0.28106368 -0.12724854  0.59779457  0.47644615\n",
            "  -0.16606913  0.4468287   0.28886772 -0.17097293  0.21776905  0.26742932\n",
            "  -0.06516158  0.68595842  0.59086439  0.46749716  0.2143608   0.14177249\n",
            "   0.38525523  0.2710096  -0.17929752  0.26896742  0.57406298  0.22881312\n",
            "  -0.17548054  0.56385483 -0.03091129  0.00265446 -0.08199295  0.09075309\n",
            "   0.5397473   0.2920357   0.00191862  0.64920683  0.63277832  0.63257927\n",
            "   0.02156263  0.19604017  0.72056595  0.55699394 -0.21444859 -0.15789879\n",
            "   0.25097907  0.68905304  0.31503982  0.24133251 -0.12997125  0.41337971\n",
            "   0.58036456  0.17617355  0.56461517  0.70389123 -0.0091494   0.28441312\n",
            "   0.02135068  0.54667158  0.30841911  0.40381515  0.57516096  0.16367408\n",
            "   0.66497468  0.30850372 -0.06408615  0.4791064 ]\n",
            " [ 0.5501426   0.08378703  0.63146322  0.66266778  0.02967736  0.71567575\n",
            "  -0.09010029 -0.06582397 -0.05969611  0.65620094  0.41058753 -0.08261278\n",
            "   0.19930745  0.37376408 -0.16447349  0.66559152  0.54454594  0.24129089\n",
            "   0.71653968  0.13450324  0.73561094  0.39020741  0.3991128  -0.06499173\n",
            "   0.63377121  0.20139911 -0.06925524 -0.25543088  0.31997587  0.28026447\n",
            "   0.50059211  0.66417937 -0.14263268  0.49163159 -0.06999892  0.62119476\n",
            "   0.58456703  0.27688779  0.42166538  0.09018156  0.22560622  0.61036066\n",
            "   0.23219416  0.13955643  0.25968767  0.55465051  0.11778574 -0.0688868\n",
            "   0.44430765  0.61640734 -0.10412871 -0.01446502 -0.07912599  0.12109919\n",
            "   0.18551471  0.50867952  0.38477406  0.39330402  0.12279311  0.61493984\n",
            "   0.22604599  0.76186226  0.40131487 -0.11413147]\n",
            " [ 0.43844365  0.09602013  0.46499404 -0.15831036 -0.06732345  0.60812746\n",
            "   0.01637045  0.58862029  0.05401705  0.39514373  0.47370959  0.29341549\n",
            "   0.06958881 -0.03562518 -0.21873016  0.09799227  0.42273609  0.69035516\n",
            "   0.62734304  0.50674184  0.55756464  0.415172    0.00841544  0.6870713\n",
            "   0.42695448  0.35292594 -0.13440329  0.2098821   0.23416669  0.61463583\n",
            "   0.35870689  0.16195968  0.7789825  -0.11353111  0.16284207 -0.1892795\n",
            "   0.53753487  0.68170862  0.01578174  0.65885324  0.05217377  0.70536622\n",
            "   0.53603499  0.58327224 -0.21274861  0.71130315  0.51529106  0.07046523\n",
            "   0.58627366  0.07537902  0.6549139  -0.11752354  0.48973014  0.31492795\n",
            "  -0.15967909  0.01383614 -0.23418164  0.23792376  0.07678525  0.35089552\n",
            "   0.06134682  0.08252794  0.51141608 -0.16933466]\n",
            " [ 0.63949807  0.59621574  0.40699847  0.34858546  0.63464455 -0.10080008\n",
            "  -0.17080595 -0.03006942  0.54097608 -0.22754162  0.33687713  0.77135992\n",
            "   0.62027969  0.25509188 -0.20473845  0.61258339  0.34003149 -0.1469688\n",
            "  -0.16866677  0.6149176   0.4043555   0.54637964  0.63646828  0.31750957\n",
            "   0.26087858  0.19452423  0.06256311  0.16109867  0.53050953  0.33743344\n",
            "   0.66705087  0.1930613   0.38901537  0.36756694  0.32746824  0.45226573\n",
            "   0.00723504  0.23316288 -0.17048646  0.15330209  0.23009427  0.41682631\n",
            "   0.71032333  0.34588865  0.492813    0.22095626  0.395829   -0.1796627\n",
            "  -0.0150143   0.14922323  0.25624607 -0.2157376  -0.10777806  0.02514227\n",
            "   0.70397227  0.08253629  0.20644406 -0.0326444   0.37227534  0.02873067\n",
            "  -0.04821637  0.28696504 -0.23086891 -0.24727592]]\n",
            "Updated Biases: [[-0.29252042 -0.45472361 -0.36638103 -0.15901989  0.29742786  0.05139189\n",
            "   0.02250364 -0.23870798  0.42497755 -0.09696422 -0.40393582  0.16683061\n",
            "  -0.37233898 -0.17968378 -0.02227853  0.4394491  -0.00656457  0.18429392\n",
            "   0.4647238  -0.43800596 -0.24431153 -0.14584586 -0.05626381 -0.05626026\n",
            "   0.40437048  0.25868142  0.10857704 -0.22424926  0.32742013  0.45841308\n",
            "   0.38067426 -0.47015556  0.21547344 -0.42664846 -0.26773317 -0.41786408\n",
            "   0.150492    0.16962417 -0.4394084  -0.0520831  -0.05026078 -0.08827114\n",
            "  -0.32719592 -0.04797906  0.2545019  -0.48820787 -0.38856685 -0.13004455\n",
            "   0.42440663  0.23760971  0.24653661 -0.13362165  0.11994683 -0.48045029\n",
            "   0.07150328  0.42492573  0.06251756  0.40970058  0.26696749 -0.37445554\n",
            "   0.40052329 -0.3736346   0.05119758 -0.36308604]]\n"
          ]
        }
      ]
    },
    {
      "cell_type": "markdown",
      "source": [
        "  Forward Propagation:\n",
        "  \n",
        "        The input X is multiplied by the weight matrix W and added to the bias b to get Z1.\n",
        "        The ReLU activation function then applies A1 = max(0, Z1).\n",
        "\n",
        "  Backward Propagation:\n",
        "\n",
        "        We compute the gradient of the loss with respect to A1 which is then used to calculate gradients for Z1.\n",
        "        These gradients are used to update the weights W1 and biases b1 using gradient descent.\n",
        "\n",
        "This approach provides a clear view of how the data propagates through the network and how the weights and biases are adjusted during training. This can be directly related to your dataset and network configuration."
      ],
      "metadata": {
        "id": "0PlHxiPGFjro"
      }
    },
    {
      "cell_type": "markdown",
      "source": [
        "After the backpropagation step, it appears that the updated weights have undergone significant changes, reflecting the adjustments made to minimize the loss during training. These changes are a positive sign that the model is learning from the data and refining its predictions. The weights have likely been updated to better capture the relationships within the dataset, which should enhance the model's performance.\n",
        "\n",
        "Monitoring the loss and validation accuracy will provide a clearer picture of how well the model is performing following these updates. If the loss is decreasing steadily, it indicates that the model is making progress towards convergence."
      ],
      "metadata": {
        "id": "yZ5b9qHHFXB-"
      }
    },
    {
      "cell_type": "markdown",
      "source": [
        "Model Performance:\n",
        " **Metrics**: We evaluate the model using several key metrics relevant to binary classification tasks:"
      ],
      "metadata": {
        "id": "IwLaZAC91tN_"
      }
    },
    {
      "cell_type": "code",
      "source": [
        "\n",
        "# Make predictions\n",
        "predictions = model.predict(X_test)  # Predictions from the neural network\n",
        "\n",
        "# Convert predictions to binary values\n",
        "predictions = (predictions > 0.5).astype(int)  # Convert probabilities to 0 or 1\n",
        "\n",
        "# Actual values (target variable)\n",
        "true_values = y_test\n",
        "\n",
        "# Calculate confusion matrix\n",
        "cm = confusion_matrix(true_values, predictions)\n",
        "\n",
        "# Extract the values\n",
        "TP = cm[1, 1]  # True Positives\n",
        "TN = cm[0, 0]  # True Negatives\n",
        "FP = cm[0, 1]  # False Positives\n",
        "FN = cm[1, 0]  # False Negatives\n",
        "\n",
        "print(f'True Positives: {TP}')\n",
        "print(f'True Negatives: {TN}')\n",
        "print(f'False Positives: {FP}')\n",
        "print(f'False Negatives: {FN}')\n",
        "\n",
        "# Calculate other metrics\n",
        "accuracy = accuracy_score(true_values, predictions)\n",
        "precision = precision_score(true_values, predictions)\n",
        "recall = recall_score(true_values, predictions)\n",
        "f1 = f1_score(true_values, predictions)\n",
        "\n",
        "print(f'Accuracy: {accuracy}')\n",
        "print(f'Precision: {precision}')\n",
        "print(f'Recall: {recall}')\n",
        "print(f'F1 Score: {f1}')"
      ],
      "metadata": {
        "colab": {
          "base_uri": "https://localhost:8080/"
        },
        "id": "WfrKw53-zI5h",
        "outputId": "d34f30e2-083d-4bfb-a77f-04e14ef6ce83"
      },
      "execution_count": 74,
      "outputs": [
        {
          "output_type": "stream",
          "name": "stdout",
          "text": [
            "\u001b[1m669/669\u001b[0m \u001b[32m━━━━━━━━━━━━━━━━━━━━\u001b[0m\u001b[37m\u001b[0m \u001b[1m1s\u001b[0m 1ms/step\n",
            "True Positives: 17063\n",
            "True Negatives: 14\n",
            "False Positives: 4311\n",
            "False Negatives: 10\n",
            "Accuracy: 0.7980652397420319\n",
            "Precision: 0.7983063535136147\n",
            "Recall: 0.9994142798570843\n",
            "F1 Score: 0.887611517153484\n"
          ]
        }
      ]
    },
    {
      "cell_type": "code",
      "source": [
        "# Plotting loss curves\n",
        "plt.figure(figsize=(12, 4))\n",
        "plt.subplot(1, 2, 1)\n",
        "plt.plot(history.history['loss'], label='Train Loss')\n",
        "plt.plot(history.history['val_loss'], label='Validation Loss')\n",
        "plt.xlabel('Epochs')\n",
        "plt.ylabel('Loss')\n",
        "plt.legend()\n",
        "plt.title('Loss Curves')\n",
        "\n",
        "# Plotting accuracy curves\n",
        "plt.subplot(1, 2, 2)\n",
        "plt.plot(history.history['accuracy'], label='Train Accuracy')\n",
        "plt.plot(history.history['val_accuracy'], label='Validation Accuracy')\n",
        "plt.xlabel('Epochs')\n",
        "plt.ylabel('Accuracy')\n",
        "plt.legend()\n",
        "plt.title('Accuracy Curves')\n",
        "\n",
        "plt.tight_layout()\n",
        "plt.show()\n",
        "\n",
        "# Plotting confusion matrix\n",
        "plt.figure(figsize=(6, 6))\n",
        "sns.heatmap(cm, annot=True, fmt='d', cmap='Blues', xticklabels=['Predicted No', 'Predicted Yes'], yticklabels=['Actual No', 'Actual Yes'])\n",
        "plt.xlabel('Predicted')\n",
        "plt.ylabel('Actual')\n",
        "plt.title('Confusion Matrix')\n",
        "plt.show()"
      ],
      "metadata": {
        "colab": {
          "base_uri": "https://localhost:8080/",
          "height": 954
        },
        "id": "gQv_i4ol2Ts9",
        "outputId": "654a430e-5416-4d9e-839f-897bbda913f9"
      },
      "execution_count": 93,
      "outputs": [
        {
          "output_type": "display_data",
          "data": {
            "text/plain": [
              "<Figure size 1200x400 with 2 Axes>"
            ],
            "image/png": "[encoded data removed]"
          },
          "metadata": {}
        },
        {
          "output_type": "display_data",
          "data": {
            "text/plain": [
              "<Figure size 600x600 with 2 Axes>"
            ],
            "image/png": "[encoded data removed]"
          },
          "metadata": {}
        }
      ]
    },
    {
      "cell_type": "markdown",
      "source": [
        "Loss Curves: The loss curves plot the training and validation loss across epochs, allowing you to visualize overfitting or underfitting. The left plot shows the loss over epochs, while the right plot shows the accuracy over epochs.\n",
        "\n",
        "\n",
        "Confusion Matrix: The confusion matrix is plotted as a heatmap to visually inspect the performance of the classification model. It shows True Positives, True Negatives, False Positives, and False Negatives.\n",
        "\n",
        "Confusion Matrix: The matrix displays the counts of true positives, true negatives, false positives, and false negatives. The numbers are represented in blue, with darker blue shades indicating higher values."
      ],
      "metadata": {
        "id": "RtnDwY3L2VlF"
      }
    },
    {
      "cell_type": "markdown",
      "source": [
        "Assessing the data quality"
      ],
      "metadata": {
        "id": "EQoBNdxql7Kt"
      }
    },
    {
      "cell_type": "code",
      "source": [
        "# Check for missing values\n",
        "missing_values = data.isnull().sum()\n",
        "\n",
        "# Display columns with missing values\n",
        "print(missing_values[missing_values > 0])\n"
      ],
      "metadata": {
        "id": "R1Lton8ul5KD",
        "outputId": "4cff1f5c-694c-4503-8a65-991209a9b057",
        "colab": {
          "base_uri": "https://localhost:8080/"
        }
      },
      "execution_count": 87,
      "outputs": [
        {
          "output_type": "stream",
          "name": "stdout",
          "text": [
            "Series([], dtype: int64)\n"
          ]
        }
      ]
    },
    {
      "cell_type": "code",
      "source": [
        "\n",
        "# Assuming your dataset is stored in a variable called `data`\n",
        "num_points = len(data)\n",
        "\n",
        "# Print the number of points\n",
        "print(f\"The dataset contains {num_points} points.\")"
      ],
      "metadata": {
        "id": "doR2cEgzqdKK",
        "outputId": "e1c11416-41b2-432c-e488-8ea693c8fcd3",
        "colab": {
          "base_uri": "https://localhost:8080/"
        }
      },
      "execution_count": 91,
      "outputs": [
        {
          "output_type": "stream",
          "name": "stdout",
          "text": [
            "The dataset contains 106987 points.\n"
          ]
        }
      ]
    }
  ]
}