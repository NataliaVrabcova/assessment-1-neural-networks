{
  "nbformat": 4,
  "nbformat_minor": 0,
  "metadata": {
    "colab": {
      "provenance": [],
      "authorship_tag": "ABX9TyM3Z8QbjX8lOD4J3HmU3J45"
    },
    "kernelspec": {
      "name": "python3",
      "display_name": "Python 3"
    },
    "language_info": {
      "name": "python"
    }
  },
  "cells": [
    {
      "cell_type": "code",
      "execution_count": 3,
      "metadata": {
        "id": "qJT2SJFzek46",
        "colab": {
          "base_uri": "https://localhost:8080/"
        },
        "outputId": "62bdcc07-adf0-47e1-ce01-533e0a7ba7f1"
      },
      "outputs": [
        {
          "output_type": "stream",
          "name": "stdout",
          "text": [
            "Cloning into 'assessment-1-neural-networks'...\n",
            "remote: Enumerating objects: 9, done.\u001b[K\n",
            "remote: Counting objects: 100% (9/9), done.\u001b[K\n",
            "remote: Compressing objects: 100% (8/8), done.\u001b[K\n",
            "remote: Total 9 (delta 1), reused 0 (delta 0), pack-reused 0 (from 0)\u001b[K\n",
            "Receiving objects: 100% (9/9), 2.01 MiB | 11.41 MiB/s, done.\n",
            "Resolving deltas: 100% (1/1), done.\n"
          ]
        }
      ],
      "source": [
        "!git clone https://github.com/NataliaVrabcova/assessment-1-neural-networks"
      ]
    },
    {
      "cell_type": "code",
      "source": [
        "import pandas as pd\n",
        "\n",
        "# Adjust the path to match your repository structure\n",
        "data = pd.read_csv('/content/assessment-1-neural-networks/healthcare_noshows_appointments.csv')\n",
        "\n",
        "# Verify the dataset is loaded\n",
        "print(data.head())"
      ],
      "metadata": {
        "colab": {
          "base_uri": "https://localhost:8080/"
        },
        "id": "cOhms_5agG9I",
        "outputId": "53f8ab6f-103c-4040-9e73-4ee2a8691cd5"
      },
      "execution_count": 5,
      "outputs": [
        {
          "output_type": "stream",
          "name": "stdout",
          "text": [
            "      PatientId  AppointmentID Gender ScheduledDay AppointmentDay  Age  \\\n",
            "0  2.987250e+13        5642903      F   2016-04-29     2016-04-29   62   \n",
            "1  5.589978e+14        5642503      M   2016-04-29     2016-04-29   56   \n",
            "2  4.262962e+12        5642549      F   2016-04-29     2016-04-29   62   \n",
            "3  8.679512e+11        5642828      F   2016-04-29     2016-04-29    8   \n",
            "4  8.841186e+12        5642494      F   2016-04-29     2016-04-29   56   \n",
            "\n",
            "       Neighbourhood  Scholarship  Hipertension  Diabetes  Alcoholism  \\\n",
            "0    JARDIM DA PENHA        False          True     False       False   \n",
            "1    JARDIM DA PENHA        False         False     False       False   \n",
            "2      MATA DA PRAIA        False         False     False       False   \n",
            "3  PONTAL DE CAMBURI        False         False     False       False   \n",
            "4    JARDIM DA PENHA        False          True      True       False   \n",
            "\n",
            "   Handcap  SMS_received  Showed_up  Date.diff  \n",
            "0    False         False       True          0  \n",
            "1    False         False       True          0  \n",
            "2    False         False       True          0  \n",
            "3    False         False       True          0  \n",
            "4    False         False       True          0  \n"
          ]
        }
      ]
    },
    {
      "cell_type": "code",
      "source": [
        "# Importing libraries\n",
        "from sklearn.model_selection import train_test_split\n",
        "from sklearn.preprocessing import StandardScaler\n",
        "from sklearn.metrics import accuracy_score\n",
        "from keras.models import Sequential\n",
        "from keras.layers import Dense, Dropout, Input\n",
        "from keras.optimizers import Adam"
      ],
      "metadata": {
        "id": "zI3gtgDdggVZ"
      },
      "execution_count": 6,
      "outputs": []
    }
  ]
}