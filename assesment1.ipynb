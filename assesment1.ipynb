{
  "nbformat": 4,
  "nbformat_minor": 0,
  "metadata": {
    "colab": {
      "provenance": [],
      "authorship_tag": "ABX9TyMSdzVspHmlzZHzGEBVl1Fa"
    },
    "kernelspec": {
      "name": "python3",
      "display_name": "Python 3"
    },
    "language_info": {
      "name": "python"
    }
  },
  "cells": [
    {
      "cell_type": "code",
      "execution_count": 1,
      "metadata": {
        "id": "qJT2SJFzek46",
        "colab": {
          "base_uri": "https://localhost:8080/"
        },
        "outputId": "e85efebd-aac8-4b0a-fd7b-e552f7d47baf"
      },
      "outputs": [
        {
          "output_type": "stream",
          "name": "stdout",
          "text": [
            "Cloning into 'assessment-1-neural-networks'...\n",
            "remote: Enumerating objects: 42, done.\u001b[K\n",
            "remote: Counting objects: 100% (42/42), done.\u001b[K\n",
            "remote: Compressing objects: 100% (41/41), done.\u001b[K\n",
            "remote: Total 42 (delta 21), reused 0 (delta 0), pack-reused 0 (from 0)\u001b[K\n",
            "Receiving objects: 100% (42/42), 2.19 MiB | 2.52 MiB/s, done.\n",
            "Resolving deltas: 100% (21/21), done.\n"
          ]
        }
      ],
      "source": [
        "!git clone https://github.com/NataliaVrabcova/assessment-1-neural-networks"
      ]
    },
    {
      "cell_type": "code",
      "source": [
        "import pandas as pd\n",
        "\n",
        "# Adjust the path to match your repository structure\n",
        "data = pd.read_csv('/content/assessment-1-neural-networks/healthcare_noshows_appointments.csv')\n",
        "\n",
        "# Verify the dataset is loaded\n",
        "print(data.head())"
      ],
      "metadata": {
        "colab": {
          "base_uri": "https://localhost:8080/"
        },
        "id": "cOhms_5agG9I",
        "outputId": "241faea3-a343-402e-bf49-a88e6ca2c6a0"
      },
      "execution_count": 2,
      "outputs": [
        {
          "output_type": "stream",
          "name": "stdout",
          "text": [
            "      PatientId  AppointmentID Gender ScheduledDay AppointmentDay  Age  \\\n",
            "0  2.987250e+13        5642903      F   2016-04-29     2016-04-29   62   \n",
            "1  5.589978e+14        5642503      M   2016-04-29     2016-04-29   56   \n",
            "2  4.262962e+12        5642549      F   2016-04-29     2016-04-29   62   \n",
            "3  8.679512e+11        5642828      F   2016-04-29     2016-04-29    8   \n",
            "4  8.841186e+12        5642494      F   2016-04-29     2016-04-29   56   \n",
            "\n",
            "       Neighbourhood  Scholarship  Hipertension  Diabetes  Alcoholism  \\\n",
            "0    JARDIM DA PENHA        False          True     False       False   \n",
            "1    JARDIM DA PENHA        False         False     False       False   \n",
            "2      MATA DA PRAIA        False         False     False       False   \n",
            "3  PONTAL DE CAMBURI        False         False     False       False   \n",
            "4    JARDIM DA PENHA        False          True      True       False   \n",
            "\n",
            "   Handcap  SMS_received  Showed_up  Date.diff  \n",
            "0    False         False       True          0  \n",
            "1    False         False       True          0  \n",
            "2    False         False       True          0  \n",
            "3    False         False       True          0  \n",
            "4    False         False       True          0  \n"
          ]
        }
      ]
    },
    {
      "cell_type": "code",
      "source": [
        "# Inspect the distribution of the target variable\n",
        "class_distribution = data['Showed_up'].value_counts()\n",
        "\n",
        "# Print the results\n",
        "print(\"Class Distribution:\")\n",
        "print(class_distribution)"
      ],
      "metadata": {
        "colab": {
          "base_uri": "https://localhost:8080/"
        },
        "id": "tfIjQk3wUe51",
        "outputId": "3e6e75cf-f3be-4a0c-f85d-b7dde9f69d6e"
      },
      "execution_count": 3,
      "outputs": [
        {
          "output_type": "stream",
          "name": "stdout",
          "text": [
            "Class Distribution:\n",
            "Showed_up\n",
            "True     85307\n",
            "False    21680\n",
            "Name: count, dtype: int64\n"
          ]
        }
      ]
    },
    {
      "cell_type": "markdown",
      "source": [
        "The dataset is highly unbalanced, with significantly more \"True\" (showed up) labels than \"False\" (did not show up).\n",
        "This imbalance can lead to a bias in the model, where it predominantly predicts \"True\" since it is the majority class."
      ],
      "metadata": {
        "id": "AkBYiSGiYc76"
      }
    },
    {
      "cell_type": "markdown",
      "source": [
        "We randomly sample 21,680 data points from the \"True\" class to match the \"False\" class count."
      ],
      "metadata": {
        "id": "3LnkwqmiYnQy"
      }
    },
    {
      "cell_type": "code",
      "source": [
        "from sklearn.utils import resample\n",
        "\n",
        "# Separate majority and minority classes\n",
        "majority_class = data[data['Showed_up'] == True]\n",
        "minority_class = data[data['Showed_up'] == False]\n",
        "\n",
        "# Downsample the majority class to match the minority class\n",
        "downsampled_majority_class = resample(majority_class,\n",
        "                                      replace=False,    # sample without replacement\n",
        "                                      n_samples=21680,  # number of samples to match the minority class\n",
        "                                      random_state=42)  # reproducibility\n",
        "\n",
        "# Combine the downsampled majority class with the minority class\n",
        "balanced_data = pd.concat([downsampled_majority_class, minority_class])\n"
      ],
      "metadata": {
        "id": "THX62-RAYnzo"
      },
      "execution_count": 13,
      "outputs": []
    },
    {
      "cell_type": "markdown",
      "source": [
        "By downsampling, we create a balanced dataset with equal representation of both classes, allowing the model to learn more effectively and make more accurate predictions across all classes."
      ],
      "metadata": {
        "id": "rijf-lQibqMZ"
      }
    },
    {
      "cell_type": "code",
      "source": [
        "# Importing libraries\n",
        "from sklearn.metrics import confusion_matrix, accuracy_score, precision_score, recall_score, f1_score\n",
        "from sklearn.model_selection import train_test_split\n",
        "from sklearn.preprocessing import StandardScaler\n",
        "from tensorflow.keras.models import Sequential\n",
        "from tensorflow.keras.layers import Input, Dense, Dropout\n",
        "from tensorflow.keras.optimizers import Adam\n",
        "import matplotlib.pyplot as plt\n",
        "import seaborn as sns"
      ],
      "metadata": {
        "id": "zI3gtgDdggVZ"
      },
      "execution_count": 5,
      "outputs": []
    },
    {
      "cell_type": "markdown",
      "source": [
        "Preprocessing the Data"
      ],
      "metadata": {
        "id": "CXsF4oD6gz_u"
      }
    },
    {
      "cell_type": "code",
      "source": [
        "# Selecting features and target variable\n",
        "X = balanced_data.drop(['Showed_up', 'PatientId', 'AppointmentID'], axis=1)\n",
        "y = balanced_data['Showed_up']\n",
        "\n",
        "# Encoding categorical variables\n",
        "X = pd.get_dummies(X, drop_first=True)\n",
        "\n",
        "# Splitting the data into training and testing sets\n",
        "X_train, X_test, y_train, y_test = train_test_split(X, y, test_size=0.2, random_state=42)\n",
        "\n",
        "# Feature scaling\n",
        "scaler = StandardScaler()\n",
        "X_train = scaler.fit_transform(X_train)\n",
        "X_test = scaler.transform(X_test)"
      ],
      "metadata": {
        "id": "fAjwQuJIgx0I"
      },
      "execution_count": 6,
      "outputs": []
    },
    {
      "cell_type": "markdown",
      "source": [
        "Feature Selection: Excludes columns not needed for model training, such as IDs and the target variable itself.\n",
        "Categorical Encoding: Converts categorical data into a numerical format suitable for neural network training.\n",
        "Data Splitting: Divides the data into training and testing sets to validate the model’s performance.\n",
        "Feature Scaling: Normalizes the data to ensure that all features contribute equally to the learning process."
      ],
      "metadata": {
        "id": "I_wLyJpkuMFw"
      }
    },
    {
      "cell_type": "markdown",
      "source": [
        "Defining the architecture of the neural network:"
      ],
      "metadata": {
        "id": "hc6LdNHkg1YR"
      }
    },
    {
      "cell_type": "code",
      "source": [
        "# Defining the neural network model\n",
        "model = Sequential([\n",
        "    Input(shape=(X_train.shape[1],)),\n",
        "    Dense(64, activation='relu'),\n",
        "    Dropout(0.7),\n",
        "    Dense(32, activation='relu'),\n",
        "    Dropout(0.7),\n",
        "    Dense(1, activation='sigmoid')\n",
        "])\n",
        "\n",
        "# Compile the model\n",
        "model.compile(loss='binary_crossentropy', optimizer=Adam(learning_rate=0.01), metrics=['accuracy'])"
      ],
      "metadata": {
        "id": "BoWrhYMYg3N0"
      },
      "execution_count": 21,
      "outputs": []
    },
    {
      "cell_type": "markdown",
      "source": [
        "Input Layer: Defines the input shape based on the number of features after\n",
        "preprocessing.\n",
        "\n",
        "Hidden Layers: Uses ReLU activation for hidden layers (64 and 32 neurons), This is common for capturing complex patterns.\n",
        "\n",
        "Dropout: Helps prevent overfitting by randomly setting some of the input units to zero at each update during training.\n",
        "\n",
        "Output Layer: A sigmoid activation function is appropriate for binary classification tasks (showed up or not)."
      ],
      "metadata": {
        "id": "P8AVNnC-uZyM"
      }
    },
    {
      "cell_type": "markdown",
      "source": [
        "**The Adam** optimizer was chosen due to its adaptability and efficiency in handling sparse gradients. The default learning rate of 0.001 was used, as it generally works well for a wide range of tasks and often provides a good starting point for optimization. This ensures stable and efficient convergence without the need for extensive fine-tuning."
      ],
      "metadata": {
        "id": "9VqV4uAq6cGf"
      }
    },
    {
      "cell_type": "markdown",
      "source": [
        "Train the model with your preprocessed data:"
      ],
      "metadata": {
        "id": "UfSZYeyIhMeY"
      }
    },
    {
      "cell_type": "code",
      "source": [
        "from tensorflow.keras.callbacks import EarlyStopping\n",
        "\n",
        "# Initialize the early stopping callback\n",
        "early_stopping = EarlyStopping(monitor='val_loss',  # monitor validation loss\n",
        "                              patience=5,          # number of epochs with no improvement to wait before stopping\n",
        "                              restore_best_weights=True) # restores the model to the best weights\n",
        "\n",
        "\n",
        "# Train the model\n",
        "history = model.fit(X_train, y_train, epochs=50, batch_size=32, validation_data=(X_test, y_test),callbacks=[early_stopping])"
      ],
      "metadata": {
        "colab": {
          "base_uri": "https://localhost:8080/"
        },
        "id": "38eDevsChOZD",
        "outputId": "3dd55666-5665-42e0-df6a-c15c659430bc"
      },
      "execution_count": 22,
      "outputs": [
        {
          "output_type": "stream",
          "name": "stdout",
          "text": [
            "Epoch 1/50\n",
            "\u001b[1m25/25\u001b[0m \u001b[32m━━━━━━━━━━━━━━━━━━━━\u001b[0m\u001b[37m\u001b[0m \u001b[1m2s\u001b[0m 11ms/step - accuracy: 0.5956 - loss: 0.7567 - val_accuracy: 0.7750 - val_loss: 0.4714\n",
            "Epoch 2/50\n",
            "\u001b[1m25/25\u001b[0m \u001b[32m━━━━━━━━━━━━━━━━━━━━\u001b[0m\u001b[37m\u001b[0m \u001b[1m0s\u001b[0m 4ms/step - accuracy: 0.7579 - loss: 0.5095 - val_accuracy: 0.8200 - val_loss: 0.4090\n",
            "Epoch 3/50\n",
            "\u001b[1m25/25\u001b[0m \u001b[32m━━━━━━━━━━━━━━━━━━━━\u001b[0m\u001b[37m\u001b[0m \u001b[1m0s\u001b[0m 3ms/step - accuracy: 0.7729 - loss: 0.4514 - val_accuracy: 0.8350 - val_loss: 0.3960\n",
            "Epoch 4/50\n",
            "\u001b[1m25/25\u001b[0m \u001b[32m━━━━━━━━━━━━━━━━━━━━\u001b[0m\u001b[37m\u001b[0m \u001b[1m0s\u001b[0m 3ms/step - accuracy: 0.8200 - loss: 0.4359 - val_accuracy: 0.8450 - val_loss: 0.3852\n",
            "Epoch 5/50\n",
            "\u001b[1m25/25\u001b[0m \u001b[32m━━━━━━━━━━━━━━━━━━━━\u001b[0m\u001b[37m\u001b[0m \u001b[1m0s\u001b[0m 5ms/step - accuracy: 0.8497 - loss: 0.3839 - val_accuracy: 0.8500 - val_loss: 0.3885\n",
            "Epoch 6/50\n",
            "\u001b[1m25/25\u001b[0m \u001b[32m━━━━━━━━━━━━━━━━━━━━\u001b[0m\u001b[37m\u001b[0m \u001b[1m0s\u001b[0m 4ms/step - accuracy: 0.8645 - loss: 0.3879 - val_accuracy: 0.8600 - val_loss: 0.3949\n",
            "Epoch 7/50\n",
            "\u001b[1m25/25\u001b[0m \u001b[32m━━━━━━━━━━━━━━━━━━━━\u001b[0m\u001b[37m\u001b[0m \u001b[1m0s\u001b[0m 3ms/step - accuracy: 0.8683 - loss: 0.4121 - val_accuracy: 0.8600 - val_loss: 0.3730\n",
            "Epoch 8/50\n",
            "\u001b[1m25/25\u001b[0m \u001b[32m━━━━━━━━━━━━━━━━━━━━\u001b[0m\u001b[37m\u001b[0m \u001b[1m0s\u001b[0m 4ms/step - accuracy: 0.8486 - loss: 0.3687 - val_accuracy: 0.8600 - val_loss: 0.3753\n",
            "Epoch 9/50\n",
            "\u001b[1m25/25\u001b[0m \u001b[32m━━━━━━━━━━━━━━━━━━━━\u001b[0m\u001b[37m\u001b[0m \u001b[1m0s\u001b[0m 4ms/step - accuracy: 0.8866 - loss: 0.3479 - val_accuracy: 0.8500 - val_loss: 0.3840\n",
            "Epoch 10/50\n",
            "\u001b[1m25/25\u001b[0m \u001b[32m━━━━━━━━━━━━━━━━━━━━\u001b[0m\u001b[37m\u001b[0m \u001b[1m0s\u001b[0m 6ms/step - accuracy: 0.8574 - loss: 0.3632 - val_accuracy: 0.8600 - val_loss: 0.4035\n",
            "Epoch 11/50\n",
            "\u001b[1m25/25\u001b[0m \u001b[32m━━━━━━━━━━━━━━━━━━━━\u001b[0m\u001b[37m\u001b[0m \u001b[1m0s\u001b[0m 6ms/step - accuracy: 0.8509 - loss: 0.3950 - val_accuracy: 0.8800 - val_loss: 0.3732\n",
            "Epoch 12/50\n",
            "\u001b[1m25/25\u001b[0m \u001b[32m━━━━━━━━━━━━━━━━━━━━\u001b[0m\u001b[37m\u001b[0m \u001b[1m0s\u001b[0m 6ms/step - accuracy: 0.8767 - loss: 0.3426 - val_accuracy: 0.8600 - val_loss: 0.4154\n"
          ]
        }
      ]
    },
    {
      "cell_type": "markdown",
      "source": [
        "Epochs: Early stopping was implemented to monitor validation loss and halt training when performance stalled.\n",
        "\n",
        "Batch Size: smaller batch sizes can aid in faster convergence, whereas larger sizes can provide more accurate updates. We selected 32 as a batch size, as it is a commonly used standard that balances computational efficiency, convergence speed, and model performance.\n",
        "Validation Data: Monitors the model’s performance on a holdout set to prevent overfitting."
      ],
      "metadata": {
        "id": "vZylsyZAuyaU"
      }
    },
    {
      "cell_type": "markdown",
      "source": [
        "Evaluate the model’s performance:"
      ],
      "metadata": {
        "id": "6Re5Ik1ThPE2"
      }
    },
    {
      "cell_type": "code",
      "source": [
        "# Evaluate the model\n",
        "y_pred = (model.predict(X_test) > 0.5).astype(int)\n",
        "accuracy = accuracy_score(y_test, y_pred)\n",
        "print(f\"Accuracy: {accuracy:.4f}\")"
      ],
      "metadata": {
        "colab": {
          "base_uri": "https://localhost:8080/"
        },
        "id": "_NBmsJRDhTtN",
        "outputId": "c7560425-433f-463a-8e8f-fc4058925995"
      },
      "execution_count": 23,
      "outputs": [
        {
          "output_type": "stream",
          "name": "stdout",
          "text": [
            "\u001b[1m7/7\u001b[0m \u001b[32m━━━━━━━━━━━━━━━━━━━━\u001b[0m\u001b[37m\u001b[0m \u001b[1m0s\u001b[0m 9ms/step\n",
            "Accuracy: 0.8600\n"
          ]
        }
      ]
    },
    {
      "cell_type": "markdown",
      "source": [
        "Accuracy Calculation: Measures the proportion of correct predictions on the test set. A higher accuracy indicates a better-performing model."
      ],
      "metadata": {
        "id": "sNXfrEeFvkbv"
      }
    },
    {
      "cell_type": "markdown",
      "source": [
        "Evaluate the model on the test set"
      ],
      "metadata": {
        "id": "QNvkpyt9mH_5"
      }
    },
    {
      "cell_type": "code",
      "source": [
        "test_loss, test_accuracy = model.evaluate(X_test, y_test)"
      ],
      "metadata": {
        "id": "7yTVyktAmBvL",
        "outputId": "89056160-90db-42c0-9510-5a355fc8e3e4",
        "colab": {
          "base_uri": "https://localhost:8080/"
        }
      },
      "execution_count": null,
      "outputs": [
        {
          "output_type": "stream",
          "name": "stdout",
          "text": [
            "\u001b[1m271/271\u001b[0m \u001b[32m━━━━━━━━━━━━━━━━━━━━\u001b[0m\u001b[37m\u001b[0m \u001b[1m0s\u001b[0m 1ms/step - accuracy: 0.6600 - loss: 0.6031\n"
          ]
        }
      ]
    },
    {
      "cell_type": "markdown",
      "source": [
        "Test Loss:\n",
        "  This value indicates the average error (or loss) of the model when it made predictions on the test data. A lower loss generally means that the model made fewer mistakes.\n",
        "\n",
        "Test Accuracy:\n",
        "  This metric shows the proportion of correct predictions (true positives + true negatives) out of the total predictions on the test set. A value closer to 1 indicates better performance.\n",
        "\n"
      ],
      "metadata": {
        "id": "QfR3U96zmEG1"
      }
    },
    {
      "cell_type": "markdown",
      "source": [
        "**Backpropagation:**"
      ],
      "metadata": {
        "id": "t39AbPZYvwU6"
      }
    },
    {
      "cell_type": "markdown",
      "source": [
        "This segment provides a step-by-step view of how the neural network processes data and adjusts its parameters during training. It helps to understand the underlying mechanism of how neural networks learn from data."
      ],
      "metadata": {
        "id": "GXQWepLcvwn7"
      }
    },
    {
      "cell_type": "code",
      "source": [
        "import numpy as np\n",
        "\n",
        "# Given parameters\n",
        "np.random.seed(42)  # For reproducibility\n",
        "X = np.random.rand(100, 14)  # Example data (100 samples, 14 features)\n",
        "W1 = np.random.rand(14, 64)  # Weights for the first hidden layer (14 input features, 64 neurons)\n",
        "b1 = np.random.rand(1, 64)  # Bias for the first hidden layer (64 neurons)\n",
        "learning_rate = 0.01  # Learning rate for gradient descent\n",
        "\n",
        "# Forward Propagation for the first hidden layer\n",
        "Z1 = np.dot(X, W1) + b1  # Linear transformation (Z1 = X * W1 + b1)\n",
        "A1 = np.maximum(0, Z1)   # ReLU activation (A1 = max(0, Z1))\n",
        "\n",
        "# Assuming we have a loss gradient with respect to A1\n",
        "dA1 = np.random.rand(100, 64)  # Gradient of the loss with respect to A1\n",
        "\n",
        "# Backward Propagation for the first hidden layer\n",
        "dZ1 = dA1 * (Z1 > 0)  # Derivative of ReLU (dZ1 = dA1 * (Z1 > 0))\n",
        "dW1 = np.dot(X.T, dZ1)  # Gradient of the loss with respect to W1 (dW1 = X^T * dZ1)\n",
        "db1 = np.sum(dZ1, axis=0, keepdims=True)  # Gradient of the loss with respect to b1 (db1 = sum(dZ1, axis=0))\n",
        "\n",
        "# Update weights and biases using gradient descent\n",
        "W1 -= learning_rate * dW1  # Updating weights\n",
        "b1 -= learning_rate * db1  # Updating biases\n",
        "\n",
        "print(\"Updated Weights:\", W1)\n",
        "print(\"Updated Biases:\", b1)"
      ],
      "metadata": {
        "id": "sueN-aTsB0S-"
      },
      "execution_count": null,
      "outputs": []
    },
    {
      "cell_type": "markdown",
      "source": [
        "  Forward Propagation:\n",
        "  \n",
        "        The input X is multiplied by the weight matrix W and added to the bias b to get Z1.\n",
        "        The ReLU activation function then applies A1 = max(0, Z1).\n",
        "\n",
        "  Backward Propagation:\n",
        "\n",
        "        We compute the gradient of the loss with respect to A1 which is then used to calculate gradients for Z1.\n",
        "        These gradients are used to update the weights W1 and biases b1 using gradient descent.\n",
        "\n",
        "This approach provides a clear view of how the data propagates through the network and how the weights and biases are adjusted during training."
      ],
      "metadata": {
        "id": "0PlHxiPGFjro"
      }
    },
    {
      "cell_type": "markdown",
      "source": [
        "After the backpropagation step, it appears that the updated weights have undergone significant changes, reflecting the adjustments made to minimize the loss during training. These changes are a positive sign that the model is learning from the data and refining its predictions. The weights have likely been updated to better capture the relationships within the dataset, which should enhance the model's performance.\n",
        "\n",
        "Monitoring the loss and validation accuracy will provide a clearer picture of how well the model is performing following these updates. If the loss is decreasing steadily, it indicates that the model is making progress towards convergence."
      ],
      "metadata": {
        "id": "yZ5b9qHHFXB-"
      }
    },
    {
      "cell_type": "markdown",
      "source": [
        "Model Performance:\n",
        " **Metrics**: We evaluate the model using several key metrics relevant to binary classification tasks:"
      ],
      "metadata": {
        "id": "IwLaZAC91tN_"
      }
    },
    {
      "cell_type": "code",
      "source": [
        "\n",
        "# Make predictions\n",
        "predictions = model.predict(X_test)  # Predictions from the neural network\n",
        "\n",
        "# Convert predictions to binary values\n",
        "predictions = (predictions > 0.5).astype(int)  # Convert probabilities to 0 or 1\n",
        "\n",
        "# Actual values (target variable)\n",
        "true_values = y_test\n",
        "\n",
        "# Calculate confusion matrix\n",
        "cm = confusion_matrix(true_values, predictions)\n",
        "\n",
        "# Extract the values\n",
        "TP = cm[1, 1]  # True Positives\n",
        "TN = cm[0, 0]  # True Negatives\n",
        "FP = cm[0, 1]  # False Positives\n",
        "FN = cm[1, 0]  # False Negatives\n",
        "\n",
        "print(f'True Positives: {TP}')\n",
        "print(f'True Negatives: {TN}')\n",
        "print(f'False Positives: {FP}')\n",
        "print(f'False Negatives: {FN}')\n",
        "\n",
        "# Calculate other metrics\n",
        "accuracy = accuracy_score(true_values, predictions)\n",
        "precision = precision_score(true_values, predictions)\n",
        "recall = recall_score(true_values, predictions)\n",
        "f1 = f1_score(true_values, predictions)\n",
        "\n",
        "print(f'Accuracy: {accuracy}')\n",
        "print(f'Precision: {precision}')\n",
        "print(f'Recall: {recall}')\n",
        "print(f'F1 Score: {f1}')"
      ],
      "metadata": {
        "colab": {
          "base_uri": "https://localhost:8080/"
        },
        "id": "WfrKw53-zI5h",
        "outputId": "4d7c0fc6-1252-4196-dfcd-a4ab5da72755"
      },
      "execution_count": 24,
      "outputs": [
        {
          "output_type": "stream",
          "name": "stdout",
          "text": [
            "\u001b[1m7/7\u001b[0m \u001b[32m━━━━━━━━━━━━━━━━━━━━\u001b[0m\u001b[37m\u001b[0m \u001b[1m0s\u001b[0m 3ms/step \n",
            "True Positives: 89\n",
            "True Negatives: 83\n",
            "False Positives: 10\n",
            "False Negatives: 18\n",
            "Accuracy: 0.86\n",
            "Precision: 0.898989898989899\n",
            "Recall: 0.8317757009345794\n",
            "F1 Score: 0.8640776699029126\n"
          ]
        }
      ]
    },
    {
      "cell_type": "code",
      "source": [
        "# Plotting loss curves\n",
        "plt.figure(figsize=(12, 4))\n",
        "plt.subplot(1, 2, 1)\n",
        "plt.plot(history.history['loss'], label='Train Loss')\n",
        "plt.plot(history.history['val_loss'], label='Validation Loss')\n",
        "plt.xlabel('Epochs')\n",
        "plt.ylabel('Loss')\n",
        "plt.legend()\n",
        "plt.title('Loss Curves')\n",
        "\n",
        "# Plotting accuracy curves\n",
        "plt.subplot(1, 2, 2)\n",
        "plt.plot(history.history['accuracy'], label='Train Accuracy')\n",
        "plt.plot(history.history['val_accuracy'], label='Validation Accuracy')\n",
        "plt.xlabel('Epochs')\n",
        "plt.ylabel('Accuracy')\n",
        "plt.legend()\n",
        "plt.title('Accuracy Curves')\n",
        "\n",
        "plt.tight_layout()\n",
        "plt.show()\n",
        "\n",
        "# Plotting confusion matrix\n",
        "plt.figure(figsize=(6, 6))\n",
        "sns.heatmap(cm, annot=True, fmt='d', cmap='Blues', xticklabels=['Predicted No', 'Predicted Yes'], yticklabels=['Actual No', 'Actual Yes'])\n",
        "plt.xlabel('Predicted')\n",
        "plt.ylabel('Actual')\n",
        "plt.title('Confusion Matrix')\n",
        "plt.show()"
      ],
      "metadata": {
        "colab": {
          "base_uri": "https://localhost:8080/",
          "height": 954
        },
        "id": "gQv_i4ol2Ts9",
        "outputId": "44abfa30-b337-484e-c5be-33fefeea51b8"
      },
      "execution_count": 19,
      "outputs": [
        {
          "output_type": "display_data",
          "data": {
            "text/plain": [
              "<Figure size 1200x400 with 2 Axes>"
            ],
            "image/png": "[encoded data removed]"
          },
          "metadata": {}
        },
        {
          "output_type": "display_data",
          "data": {
            "text/plain": [
              "<Figure size 600x600 with 2 Axes>"
            ],
            "image/png": "[encoded data removed]"
          },
          "metadata": {}
        }
      ]
    },
    {
      "cell_type": "markdown",
      "source": [
        "Loss Curves: The loss curves plot the training and validation loss across epochs, allowing you to visualize overfitting or underfitting. The left plot shows the loss over epochs, while the right plot shows the accuracy over epochs.\n",
        "\n",
        "\n",
        "Confusion Matrix: The confusion matrix is plotted as a heatmap to visually inspect the performance of the classification model. It shows True Positives, True Negatives, False Positives, and False Negatives.\n",
        "\n",
        "Confusion Matrix: The matrix displays the counts of true positives, true negatives, false positives, and false negatives. The numbers are represented in blue, with darker blue shades indicating higher values."
      ],
      "metadata": {
        "id": "RtnDwY3L2VlF"
      }
    },
    {
      "cell_type": "markdown",
      "source": [
        "Assessing the data quality"
      ],
      "metadata": {
        "id": "EQoBNdxql7Kt"
      }
    },
    {
      "cell_type": "code",
      "source": [
        "# Check for missing values\n",
        "missing_values = data.isnull().sum()\n",
        "\n",
        "# Display columns with missing values\n",
        "print(missing_values[missing_values > 0])\n"
      ],
      "metadata": {
        "colab": {
          "base_uri": "https://localhost:8080/"
        },
        "id": "R1Lton8ul5KD",
        "outputId": "4cff1f5c-694c-4503-8a65-991209a9b057"
      },
      "execution_count": null,
      "outputs": [
        {
          "output_type": "stream",
          "name": "stdout",
          "text": [
            "Series([], dtype: int64)\n"
          ]
        }
      ]
    },
    {
      "cell_type": "code",
      "source": [
        "\n",
        "# Assuming your dataset is stored in a variable called `data`\n",
        "num_points = len(data)\n",
        "\n",
        "# Print the number of points\n",
        "print(f\"The dataset contains {num_points} points.\")"
      ],
      "metadata": {
        "colab": {
          "base_uri": "https://localhost:8080/"
        },
        "id": "doR2cEgzqdKK",
        "outputId": "e1c11416-41b2-432c-e488-8ea693c8fcd3"
      },
      "execution_count": null,
      "outputs": [
        {
          "output_type": "stream",
          "name": "stdout",
          "text": [
            "The dataset contains 106987 points.\n"
          ]
        }
      ]
    }
  ]
}