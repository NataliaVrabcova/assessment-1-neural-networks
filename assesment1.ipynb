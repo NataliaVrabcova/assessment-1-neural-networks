{
  "nbformat": 4,
  "nbformat_minor": 0,
  "metadata": {
    "colab": {
      "provenance": [],
      "authorship_tag": "ABX9TyNITeoAa+3AHgNdsYMSenLU"
    },
    "kernelspec": {
      "name": "python3",
      "display_name": "Python 3"
    },
    "language_info": {
      "name": "python"
    }
  },
  "cells": [
    {
      "cell_type": "code",
      "execution_count": 3,
      "metadata": {
        "id": "qJT2SJFzek46",
        "colab": {
          "base_uri": "https://localhost:8080/"
        },
        "outputId": "62bdcc07-adf0-47e1-ce01-533e0a7ba7f1"
      },
      "outputs": [
        {
          "output_type": "stream",
          "name": "stdout",
          "text": [
            "Cloning into 'assessment-1-neural-networks'...\n",
            "remote: Enumerating objects: 9, done.\u001b[K\n",
            "remote: Counting objects: 100% (9/9), done.\u001b[K\n",
            "remote: Compressing objects: 100% (8/8), done.\u001b[K\n",
            "remote: Total 9 (delta 1), reused 0 (delta 0), pack-reused 0 (from 0)\u001b[K\n",
            "Receiving objects: 100% (9/9), 2.01 MiB | 11.41 MiB/s, done.\n",
            "Resolving deltas: 100% (1/1), done.\n"
          ]
        }
      ],
      "source": [
        "!git clone https://github.com/NataliaVrabcova/assessment-1-neural-networks"
      ]
    },
    {
      "cell_type": "code",
      "source": [
        "import pandas as pd\n",
        "\n",
        "# Adjust the path to match your repository structure\n",
        "data = pd.read_csv('/content/assessment-1-neural-networks/healthcare_noshows_appointments.csv')\n",
        "\n",
        "# Verify the dataset is loaded\n",
        "print(data.head())"
      ],
      "metadata": {
        "colab": {
          "base_uri": "https://localhost:8080/"
        },
        "id": "cOhms_5agG9I",
        "outputId": "53f8ab6f-103c-4040-9e73-4ee2a8691cd5"
      },
      "execution_count": 5,
      "outputs": [
        {
          "output_type": "stream",
          "name": "stdout",
          "text": [
            "      PatientId  AppointmentID Gender ScheduledDay AppointmentDay  Age  \\\n",
            "0  2.987250e+13        5642903      F   2016-04-29     2016-04-29   62   \n",
            "1  5.589978e+14        5642503      M   2016-04-29     2016-04-29   56   \n",
            "2  4.262962e+12        5642549      F   2016-04-29     2016-04-29   62   \n",
            "3  8.679512e+11        5642828      F   2016-04-29     2016-04-29    8   \n",
            "4  8.841186e+12        5642494      F   2016-04-29     2016-04-29   56   \n",
            "\n",
            "       Neighbourhood  Scholarship  Hipertension  Diabetes  Alcoholism  \\\n",
            "0    JARDIM DA PENHA        False          True     False       False   \n",
            "1    JARDIM DA PENHA        False         False     False       False   \n",
            "2      MATA DA PRAIA        False         False     False       False   \n",
            "3  PONTAL DE CAMBURI        False         False     False       False   \n",
            "4    JARDIM DA PENHA        False          True      True       False   \n",
            "\n",
            "   Handcap  SMS_received  Showed_up  Date.diff  \n",
            "0    False         False       True          0  \n",
            "1    False         False       True          0  \n",
            "2    False         False       True          0  \n",
            "3    False         False       True          0  \n",
            "4    False         False       True          0  \n"
          ]
        }
      ]
    },
    {
      "cell_type": "code",
      "source": [
        "# Importing libraries\n",
        "from sklearn.model_selection import train_test_split\n",
        "from sklearn.preprocessing import StandardScaler\n",
        "from sklearn.metrics import accuracy_score\n",
        "from keras.models import Sequential\n",
        "from keras.layers import Dense, Dropout, Input\n",
        "from keras.optimizers import Adam"
      ],
      "metadata": {
        "id": "zI3gtgDdggVZ"
      },
      "execution_count": 6,
      "outputs": []
    },
    {
      "cell_type": "markdown",
      "source": [
        "Preprocessing the Data"
      ],
      "metadata": {
        "id": "CXsF4oD6gz_u"
      }
    },
    {
      "cell_type": "code",
      "source": [
        "# Selecting features and target variable\n",
        "X = data.drop(['Showed_up', 'PatientId', 'AppointmentID'], axis=1)\n",
        "y = data['Showed_up']\n",
        "\n",
        "# Encoding categorical variables\n",
        "X = pd.get_dummies(X, drop_first=True)\n",
        "\n",
        "# Splitting the data into training and testing sets\n",
        "X_train, X_test, y_train, y_test = train_test_split(X, y, test_size=0.2, random_state=42)\n",
        "\n",
        "# Feature scaling\n",
        "scaler = StandardScaler()\n",
        "X_train = scaler.fit_transform(X_train)\n",
        "X_test = scaler.transform(X_test)"
      ],
      "metadata": {
        "id": "fAjwQuJIgx0I"
      },
      "execution_count": 7,
      "outputs": []
    },
    {
      "cell_type": "markdown",
      "source": [
        "Defining the architecture of the neural network:"
      ],
      "metadata": {
        "id": "hc6LdNHkg1YR"
      }
    },
    {
      "cell_type": "code",
      "source": [
        "# Defining the neural network model\n",
        "model = Sequential([\n",
        "    Input(shape=(X_train.shape[1],)),\n",
        "    Dense(64, activation='relu'),\n",
        "    Dropout(0.5),\n",
        "    Dense(32, activation='relu'),\n",
        "    Dropout(0.5),\n",
        "    Dense(1, activation='sigmoid')\n",
        "])\n",
        "\n",
        "# Compile the model\n",
        "model.compile(loss='binary_crossentropy', optimizer=Adam(), metrics=['accuracy'])"
      ],
      "metadata": {
        "id": "BoWrhYMYg3N0"
      },
      "execution_count": 8,
      "outputs": []
    },
    {
      "cell_type": "markdown",
      "source": [
        "Train the model with your preprocessed data:"
      ],
      "metadata": {
        "id": "UfSZYeyIhMeY"
      }
    },
    {
      "cell_type": "code",
      "source": [
        "# Train the model\n",
        "history = model.fit(X_train, y_train, epochs=50, batch_size=32, validation_data=(X_test, y_test))"
      ],
      "metadata": {
        "id": "38eDevsChOZD",
        "outputId": "772a3070-5e3e-4973-f7cc-c840b50b2350",
        "colab": {
          "base_uri": "https://localhost:8080/"
        }
      },
      "execution_count": 9,
      "outputs": [
        {
          "output_type": "stream",
          "name": "stdout",
          "text": [
            "Epoch 1/50\n",
            "\u001b[1m2675/2675\u001b[0m \u001b[32m━━━━━━━━━━━━━━━━━━━━\u001b[0m\u001b[37m\u001b[0m \u001b[1m7s\u001b[0m 2ms/step - accuracy: 0.7769 - loss: 0.5436 - val_accuracy: 0.7979 - val_loss: 0.4712\n",
            "Epoch 2/50\n",
            "\u001b[1m2675/2675\u001b[0m \u001b[32m━━━━━━━━━━━━━━━━━━━━\u001b[0m\u001b[37m\u001b[0m \u001b[1m8s\u001b[0m 3ms/step - accuracy: 0.7982 - loss: 0.4713 - val_accuracy: 0.7979 - val_loss: 0.4643\n",
            "Epoch 3/50\n",
            "\u001b[1m2675/2675\u001b[0m \u001b[32m━━━━━━━━━━━━━━━━━━━━\u001b[0m\u001b[37m\u001b[0m \u001b[1m6s\u001b[0m 2ms/step - accuracy: 0.7969 - loss: 0.4609 - val_accuracy: 0.7979 - val_loss: 0.4550\n",
            "Epoch 4/50\n",
            "\u001b[1m2675/2675\u001b[0m \u001b[32m━━━━━━━━━━━━━━━━━━━━\u001b[0m\u001b[37m\u001b[0m \u001b[1m7s\u001b[0m 3ms/step - accuracy: 0.7961 - loss: 0.4564 - val_accuracy: 0.7979 - val_loss: 0.4543\n",
            "Epoch 5/50\n",
            "\u001b[1m2675/2675\u001b[0m \u001b[32m━━━━━━━━━━━━━━━━━━━━\u001b[0m\u001b[37m\u001b[0m \u001b[1m9s\u001b[0m 2ms/step - accuracy: 0.7984 - loss: 0.4505 - val_accuracy: 0.7979 - val_loss: 0.4512\n",
            "Epoch 6/50\n",
            "\u001b[1m2675/2675\u001b[0m \u001b[32m━━━━━━━━━━━━━━━━━━━━\u001b[0m\u001b[37m\u001b[0m \u001b[1m10s\u001b[0m 2ms/step - accuracy: 0.7953 - loss: 0.4530 - val_accuracy: 0.7981 - val_loss: 0.4508\n",
            "Epoch 7/50\n",
            "\u001b[1m2675/2675\u001b[0m \u001b[32m━━━━━━━━━━━━━━━━━━━━\u001b[0m\u001b[37m\u001b[0m \u001b[1m7s\u001b[0m 3ms/step - accuracy: 0.7973 - loss: 0.4512 - val_accuracy: 0.7982 - val_loss: 0.4516\n",
            "Epoch 8/50\n",
            "\u001b[1m2675/2675\u001b[0m \u001b[32m━━━━━━━━━━━━━━━━━━━━\u001b[0m\u001b[37m\u001b[0m \u001b[1m8s\u001b[0m 2ms/step - accuracy: 0.7996 - loss: 0.4457 - val_accuracy: 0.7980 - val_loss: 0.4503\n",
            "Epoch 9/50\n",
            "\u001b[1m2675/2675\u001b[0m \u001b[32m━━━━━━━━━━━━━━━━━━━━\u001b[0m\u001b[37m\u001b[0m \u001b[1m10s\u001b[0m 2ms/step - accuracy: 0.7962 - loss: 0.4496 - val_accuracy: 0.7979 - val_loss: 0.4501\n",
            "Epoch 10/50\n",
            "\u001b[1m2675/2675\u001b[0m \u001b[32m━━━━━━━━━━━━━━━━━━━━\u001b[0m\u001b[37m\u001b[0m \u001b[1m11s\u001b[0m 2ms/step - accuracy: 0.7987 - loss: 0.4460 - val_accuracy: 0.7980 - val_loss: 0.4503\n",
            "Epoch 11/50\n",
            "\u001b[1m2675/2675\u001b[0m \u001b[32m━━━━━━━━━━━━━━━━━━━━\u001b[0m\u001b[37m\u001b[0m \u001b[1m7s\u001b[0m 3ms/step - accuracy: 0.7977 - loss: 0.4479 - val_accuracy: 0.7986 - val_loss: 0.4493\n",
            "Epoch 12/50\n",
            "\u001b[1m2675/2675\u001b[0m \u001b[32m━━━━━━━━━━━━━━━━━━━━\u001b[0m\u001b[37m\u001b[0m \u001b[1m9s\u001b[0m 2ms/step - accuracy: 0.7953 - loss: 0.4502 - val_accuracy: 0.7988 - val_loss: 0.4499\n",
            "Epoch 13/50\n",
            "\u001b[1m2675/2675\u001b[0m \u001b[32m━━━━━━━━━━━━━━━━━━━━\u001b[0m\u001b[37m\u001b[0m \u001b[1m10s\u001b[0m 2ms/step - accuracy: 0.7976 - loss: 0.4450 - val_accuracy: 0.7983 - val_loss: 0.4493\n",
            "Epoch 14/50\n",
            "\u001b[1m2675/2675\u001b[0m \u001b[32m━━━━━━━━━━━━━━━━━━━━\u001b[0m\u001b[37m\u001b[0m \u001b[1m7s\u001b[0m 3ms/step - accuracy: 0.7964 - loss: 0.4491 - val_accuracy: 0.7983 - val_loss: 0.4499\n",
            "Epoch 15/50\n",
            "\u001b[1m2675/2675\u001b[0m \u001b[32m━━━━━━━━━━━━━━━━━━━━\u001b[0m\u001b[37m\u001b[0m \u001b[1m6s\u001b[0m 2ms/step - accuracy: 0.7996 - loss: 0.4414 - val_accuracy: 0.7985 - val_loss: 0.4519\n",
            "Epoch 16/50\n",
            "\u001b[1m2675/2675\u001b[0m \u001b[32m━━━━━━━━━━━━━━━━━━━━\u001b[0m\u001b[37m\u001b[0m \u001b[1m12s\u001b[0m 3ms/step - accuracy: 0.8000 - loss: 0.4431 - val_accuracy: 0.7983 - val_loss: 0.4495\n",
            "Epoch 17/50\n",
            "\u001b[1m2675/2675\u001b[0m \u001b[32m━━━━━━━━━━━━━━━━━━━━\u001b[0m\u001b[37m\u001b[0m \u001b[1m10s\u001b[0m 3ms/step - accuracy: 0.7970 - loss: 0.4428 - val_accuracy: 0.7987 - val_loss: 0.4498\n",
            "Epoch 18/50\n",
            "\u001b[1m2675/2675\u001b[0m \u001b[32m━━━━━━━━━━━━━━━━━━━━\u001b[0m\u001b[37m\u001b[0m \u001b[1m6s\u001b[0m 2ms/step - accuracy: 0.7959 - loss: 0.4440 - val_accuracy: 0.7983 - val_loss: 0.4502\n",
            "Epoch 19/50\n",
            "\u001b[1m2675/2675\u001b[0m \u001b[32m━━━━━━━━━━━━━━━━━━━━\u001b[0m\u001b[37m\u001b[0m \u001b[1m12s\u001b[0m 3ms/step - accuracy: 0.8005 - loss: 0.4402 - val_accuracy: 0.7984 - val_loss: 0.4483\n",
            "Epoch 20/50\n",
            "\u001b[1m2675/2675\u001b[0m \u001b[32m━━━━━━━━━━━━━━━━━━━━\u001b[0m\u001b[37m\u001b[0m \u001b[1m6s\u001b[0m 2ms/step - accuracy: 0.8017 - loss: 0.4371 - val_accuracy: 0.7982 - val_loss: 0.4485\n",
            "Epoch 21/50\n",
            "\u001b[1m2675/2675\u001b[0m \u001b[32m━━━━━━━━━━━━━━━━━━━━\u001b[0m\u001b[37m\u001b[0m \u001b[1m8s\u001b[0m 3ms/step - accuracy: 0.7985 - loss: 0.4442 - val_accuracy: 0.7986 - val_loss: 0.4481\n",
            "Epoch 22/50\n",
            "\u001b[1m2675/2675\u001b[0m \u001b[32m━━━━━━━━━━━━━━━━━━━━\u001b[0m\u001b[37m\u001b[0m \u001b[1m9s\u001b[0m 2ms/step - accuracy: 0.7986 - loss: 0.4406 - val_accuracy: 0.7981 - val_loss: 0.4488\n",
            "Epoch 23/50\n",
            "\u001b[1m2675/2675\u001b[0m \u001b[32m━━━━━━━━━━━━━━━━━━━━\u001b[0m\u001b[37m\u001b[0m \u001b[1m10s\u001b[0m 2ms/step - accuracy: 0.7970 - loss: 0.4438 - val_accuracy: 0.7984 - val_loss: 0.4477\n",
            "Epoch 24/50\n",
            "\u001b[1m2675/2675\u001b[0m \u001b[32m━━━━━━━━━━━━━━━━━━━━\u001b[0m\u001b[37m\u001b[0m \u001b[1m8s\u001b[0m 3ms/step - accuracy: 0.7991 - loss: 0.4390 - val_accuracy: 0.7987 - val_loss: 0.4485\n",
            "Epoch 25/50\n",
            "\u001b[1m2675/2675\u001b[0m \u001b[32m━━━━━━━━━━━━━━━━━━━━\u001b[0m\u001b[37m\u001b[0m \u001b[1m9s\u001b[0m 2ms/step - accuracy: 0.7991 - loss: 0.4405 - val_accuracy: 0.7988 - val_loss: 0.4497\n",
            "Epoch 26/50\n",
            "\u001b[1m2675/2675\u001b[0m \u001b[32m━━━━━━━━━━━━━━━━━━━━\u001b[0m\u001b[37m\u001b[0m \u001b[1m7s\u001b[0m 3ms/step - accuracy: 0.7993 - loss: 0.4390 - val_accuracy: 0.7988 - val_loss: 0.4477\n",
            "Epoch 27/50\n",
            "\u001b[1m2675/2675\u001b[0m \u001b[32m━━━━━━━━━━━━━━━━━━━━\u001b[0m\u001b[37m\u001b[0m \u001b[1m6s\u001b[0m 2ms/step - accuracy: 0.8000 - loss: 0.4381 - val_accuracy: 0.7988 - val_loss: 0.4488\n",
            "Epoch 28/50\n",
            "\u001b[1m2675/2675\u001b[0m \u001b[32m━━━━━━━━━━━━━━━━━━━━\u001b[0m\u001b[37m\u001b[0m \u001b[1m10s\u001b[0m 2ms/step - accuracy: 0.7994 - loss: 0.4406 - val_accuracy: 0.7992 - val_loss: 0.4482\n",
            "Epoch 29/50\n",
            "\u001b[1m2675/2675\u001b[0m \u001b[32m━━━━━━━━━━━━━━━━━━━━\u001b[0m\u001b[37m\u001b[0m \u001b[1m7s\u001b[0m 3ms/step - accuracy: 0.7976 - loss: 0.4406 - val_accuracy: 0.7994 - val_loss: 0.4488\n",
            "Epoch 30/50\n",
            "\u001b[1m2675/2675\u001b[0m \u001b[32m━━━━━━━━━━━━━━━━━━━━\u001b[0m\u001b[37m\u001b[0m \u001b[1m9s\u001b[0m 2ms/step - accuracy: 0.7990 - loss: 0.4406 - val_accuracy: 0.7992 - val_loss: 0.4494\n",
            "Epoch 31/50\n",
            "\u001b[1m2675/2675\u001b[0m \u001b[32m━━━━━━━━━━━━━━━━━━━━\u001b[0m\u001b[37m\u001b[0m \u001b[1m11s\u001b[0m 2ms/step - accuracy: 0.8003 - loss: 0.4359 - val_accuracy: 0.7989 - val_loss: 0.4482\n",
            "Epoch 32/50\n",
            "\u001b[1m2675/2675\u001b[0m \u001b[32m━━━━━━━━━━━━━━━━━━━━\u001b[0m\u001b[37m\u001b[0m \u001b[1m10s\u001b[0m 2ms/step - accuracy: 0.7972 - loss: 0.4407 - val_accuracy: 0.7986 - val_loss: 0.4507\n",
            "Epoch 33/50\n",
            "\u001b[1m2675/2675\u001b[0m \u001b[32m━━━━━━━━━━━━━━━━━━━━\u001b[0m\u001b[37m\u001b[0m \u001b[1m11s\u001b[0m 3ms/step - accuracy: 0.7990 - loss: 0.4378 - val_accuracy: 0.7988 - val_loss: 0.4492\n",
            "Epoch 34/50\n",
            "\u001b[1m2675/2675\u001b[0m \u001b[32m━━━━━━━━━━━━━━━━━━━━\u001b[0m\u001b[37m\u001b[0m \u001b[1m10s\u001b[0m 2ms/step - accuracy: 0.7979 - loss: 0.4401 - val_accuracy: 0.7986 - val_loss: 0.4483\n",
            "Epoch 35/50\n",
            "\u001b[1m2675/2675\u001b[0m \u001b[32m━━━━━━━━━━━━━━━━━━━━\u001b[0m\u001b[37m\u001b[0m \u001b[1m7s\u001b[0m 3ms/step - accuracy: 0.7987 - loss: 0.4399 - val_accuracy: 0.7992 - val_loss: 0.4484\n",
            "Epoch 36/50\n",
            "\u001b[1m2675/2675\u001b[0m \u001b[32m━━━━━━━━━━━━━━━━━━━━\u001b[0m\u001b[37m\u001b[0m \u001b[1m11s\u001b[0m 3ms/step - accuracy: 0.7994 - loss: 0.4391 - val_accuracy: 0.7986 - val_loss: 0.4476\n",
            "Epoch 37/50\n",
            "\u001b[1m2675/2675\u001b[0m \u001b[32m━━━━━━━━━━━━━━━━━━━━\u001b[0m\u001b[37m\u001b[0m \u001b[1m6s\u001b[0m 2ms/step - accuracy: 0.7994 - loss: 0.4367 - val_accuracy: 0.7991 - val_loss: 0.4480\n",
            "Epoch 38/50\n",
            "\u001b[1m2675/2675\u001b[0m \u001b[32m━━━━━━━━━━━━━━━━━━━━\u001b[0m\u001b[37m\u001b[0m \u001b[1m7s\u001b[0m 3ms/step - accuracy: 0.8031 - loss: 0.4334 - val_accuracy: 0.7984 - val_loss: 0.4497\n",
            "Epoch 39/50\n",
            "\u001b[1m2675/2675\u001b[0m \u001b[32m━━━━━━━━━━━━━━━━━━━━\u001b[0m\u001b[37m\u001b[0m \u001b[1m6s\u001b[0m 2ms/step - accuracy: 0.7995 - loss: 0.4391 - val_accuracy: 0.7988 - val_loss: 0.4492\n",
            "Epoch 40/50\n",
            "\u001b[1m2675/2675\u001b[0m \u001b[32m━━━━━━━━━━━━━━━━━━━━\u001b[0m\u001b[37m\u001b[0m \u001b[1m10s\u001b[0m 2ms/step - accuracy: 0.8023 - loss: 0.4347 - val_accuracy: 0.7988 - val_loss: 0.4485\n",
            "Epoch 41/50\n",
            "\u001b[1m2675/2675\u001b[0m \u001b[32m━━━━━━━━━━━━━━━━━━━━\u001b[0m\u001b[37m\u001b[0m \u001b[1m7s\u001b[0m 2ms/step - accuracy: 0.8026 - loss: 0.4345 - val_accuracy: 0.7993 - val_loss: 0.4482\n",
            "Epoch 42/50\n",
            "\u001b[1m2675/2675\u001b[0m \u001b[32m━━━━━━━━━━━━━━━━━━━━\u001b[0m\u001b[37m\u001b[0m \u001b[1m9s\u001b[0m 2ms/step - accuracy: 0.8009 - loss: 0.4354 - val_accuracy: 0.7989 - val_loss: 0.4509\n",
            "Epoch 43/50\n",
            "\u001b[1m2675/2675\u001b[0m \u001b[32m━━━━━━━━━━━━━━━━━━━━\u001b[0m\u001b[37m\u001b[0m \u001b[1m7s\u001b[0m 3ms/step - accuracy: 0.8009 - loss: 0.4366 - val_accuracy: 0.7994 - val_loss: 0.4497\n",
            "Epoch 44/50\n",
            "\u001b[1m2675/2675\u001b[0m \u001b[32m━━━━━━━━━━━━━━━━━━━━\u001b[0m\u001b[37m\u001b[0m \u001b[1m6s\u001b[0m 2ms/step - accuracy: 0.7989 - loss: 0.4386 - val_accuracy: 0.7985 - val_loss: 0.4494\n",
            "Epoch 45/50\n",
            "\u001b[1m2675/2675\u001b[0m \u001b[32m━━━━━━━━━━━━━━━━━━━━\u001b[0m\u001b[37m\u001b[0m \u001b[1m7s\u001b[0m 3ms/step - accuracy: 0.8002 - loss: 0.4361 - val_accuracy: 0.7996 - val_loss: 0.4473\n",
            "Epoch 46/50\n",
            "\u001b[1m2675/2675\u001b[0m \u001b[32m━━━━━━━━━━━━━━━━━━━━\u001b[0m\u001b[37m\u001b[0m \u001b[1m9s\u001b[0m 2ms/step - accuracy: 0.8017 - loss: 0.4339 - val_accuracy: 0.7995 - val_loss: 0.4481\n",
            "Epoch 47/50\n",
            "\u001b[1m2675/2675\u001b[0m \u001b[32m━━━━━━━━━━━━━━━━━━━━\u001b[0m\u001b[37m\u001b[0m \u001b[1m7s\u001b[0m 3ms/step - accuracy: 0.8029 - loss: 0.4340 - val_accuracy: 0.7988 - val_loss: 0.4514\n",
            "Epoch 48/50\n",
            "\u001b[1m2675/2675\u001b[0m \u001b[32m━━━━━━━━━━━━━━━━━━━━\u001b[0m\u001b[37m\u001b[0m \u001b[1m9s\u001b[0m 2ms/step - accuracy: 0.8012 - loss: 0.4356 - val_accuracy: 0.7992 - val_loss: 0.4491\n",
            "Epoch 49/50\n",
            "\u001b[1m2675/2675\u001b[0m \u001b[32m━━━━━━━━━━━━━━━━━━━━\u001b[0m\u001b[37m\u001b[0m \u001b[1m7s\u001b[0m 3ms/step - accuracy: 0.8020 - loss: 0.4317 - val_accuracy: 0.7991 - val_loss: 0.4488\n",
            "Epoch 50/50\n",
            "\u001b[1m2675/2675\u001b[0m \u001b[32m━━━━━━━━━━━━━━━━━━━━\u001b[0m\u001b[37m\u001b[0m \u001b[1m6s\u001b[0m 2ms/step - accuracy: 0.8018 - loss: 0.4360 - val_accuracy: 0.7992 - val_loss: 0.4496\n"
          ]
        }
      ]
    },
    {
      "cell_type": "markdown",
      "source": [
        "Evaluate the model’s performance:"
      ],
      "metadata": {
        "id": "6Re5Ik1ThPE2"
      }
    },
    {
      "cell_type": "code",
      "source": [
        "# Evaluate the model\n",
        "y_pred = (model.predict(X_test) > 0.5).astype(int)\n",
        "accuracy = accuracy_score(y_test, y_pred)\n",
        "print(f\"Accuracy: {accuracy:.4f}\")"
      ],
      "metadata": {
        "id": "_NBmsJRDhTtN",
        "outputId": "22ca79c3-b181-4710-8c89-5a1cb41b3c9d",
        "colab": {
          "base_uri": "https://localhost:8080/"
        }
      },
      "execution_count": 10,
      "outputs": [
        {
          "output_type": "stream",
          "name": "stdout",
          "text": [
            "\u001b[1m669/669\u001b[0m \u001b[32m━━━━━━━━━━━━━━━━━━━━\u001b[0m\u001b[37m\u001b[0m \u001b[1m1s\u001b[0m 1ms/step\n",
            "Accuracy: 0.7992\n"
          ]
        }
      ]
    }
  ]
}